{
 "cells": [
  {
   "cell_type": "code",
   "execution_count": 1,
   "id": "3752c733",
   "metadata": {},
   "outputs": [],
   "source": [
    "import pandas as pd\n",
    "import numpy as np\n",
    "import matplotlib.pyplot as plt\n",
    "import seaborn as sns"
   ]
  },
  {
   "cell_type": "code",
   "execution_count": 2,
   "id": "7a5f1737",
   "metadata": {},
   "outputs": [
    {
     "data": {
      "text/html": [
       "<div>\n",
       "<style scoped>\n",
       "    .dataframe tbody tr th:only-of-type {\n",
       "        vertical-align: middle;\n",
       "    }\n",
       "\n",
       "    .dataframe tbody tr th {\n",
       "        vertical-align: top;\n",
       "    }\n",
       "\n",
       "    .dataframe thead th {\n",
       "        text-align: right;\n",
       "    }\n",
       "</style>\n",
       "<table border=\"1\" class=\"dataframe\">\n",
       "  <thead>\n",
       "    <tr style=\"text-align: right;\">\n",
       "      <th></th>\n",
       "      <th>Country</th>\n",
       "      <th>Year</th>\n",
       "      <th>Continent</th>\n",
       "      <th>Least Developed</th>\n",
       "      <th>Life Expectancy</th>\n",
       "      <th>Population</th>\n",
       "      <th>CO2 emissions</th>\n",
       "      <th>Health expenditure</th>\n",
       "      <th>Electric power consumption</th>\n",
       "      <th>Forest area</th>\n",
       "      <th>GDP per capita</th>\n",
       "      <th>Individuals using the Internet</th>\n",
       "      <th>Military expenditure</th>\n",
       "      <th>People practicing open defecation</th>\n",
       "      <th>People using at least basic drinking water services</th>\n",
       "      <th>Obesity among adults</th>\n",
       "      <th>Beer consumption per capita</th>\n",
       "    </tr>\n",
       "  </thead>\n",
       "  <tbody>\n",
       "    <tr>\n",
       "      <th>0</th>\n",
       "      <td>Albania</td>\n",
       "      <td>2000</td>\n",
       "      <td>Europe</td>\n",
       "      <td>False</td>\n",
       "      <td>73.955</td>\n",
       "      <td>3089027</td>\n",
       "      <td>1.026213</td>\n",
       "      <td>7.233370</td>\n",
       "      <td>1414.703784</td>\n",
       "      <td>28.076642</td>\n",
       "      <td>3860.804627</td>\n",
       "      <td>0.114097</td>\n",
       "      <td>1.246360</td>\n",
       "      <td>0.888853</td>\n",
       "      <td>86.754471</td>\n",
       "      <td>12.8</td>\n",
       "      <td>1.33431</td>\n",
       "    </tr>\n",
       "    <tr>\n",
       "      <th>1</th>\n",
       "      <td>Albania</td>\n",
       "      <td>2001</td>\n",
       "      <td>Europe</td>\n",
       "      <td>False</td>\n",
       "      <td>74.288</td>\n",
       "      <td>3060173</td>\n",
       "      <td>1.055496</td>\n",
       "      <td>7.139524</td>\n",
       "      <td>1449.647413</td>\n",
       "      <td>28.123248</td>\n",
       "      <td>4299.546493</td>\n",
       "      <td>0.325798</td>\n",
       "      <td>1.309291</td>\n",
       "      <td>0.836397</td>\n",
       "      <td>86.904070</td>\n",
       "      <td>13.3</td>\n",
       "      <td>1.48995</td>\n",
       "    </tr>\n",
       "    <tr>\n",
       "      <th>2</th>\n",
       "      <td>Albania</td>\n",
       "      <td>2002</td>\n",
       "      <td>Europe</td>\n",
       "      <td>False</td>\n",
       "      <td>74.579</td>\n",
       "      <td>3051010</td>\n",
       "      <td>1.232379</td>\n",
       "      <td>6.909341</td>\n",
       "      <td>1351.230796</td>\n",
       "      <td>28.169854</td>\n",
       "      <td>4661.402695</td>\n",
       "      <td>0.390081</td>\n",
       "      <td>1.320034</td>\n",
       "      <td>0.781899</td>\n",
       "      <td>87.451635</td>\n",
       "      <td>13.9</td>\n",
       "      <td>1.28697</td>\n",
       "    </tr>\n",
       "    <tr>\n",
       "      <th>3</th>\n",
       "      <td>Albania</td>\n",
       "      <td>2003</td>\n",
       "      <td>Europe</td>\n",
       "      <td>False</td>\n",
       "      <td>74.828</td>\n",
       "      <td>3039616</td>\n",
       "      <td>1.338985</td>\n",
       "      <td>7.063490</td>\n",
       "      <td>1578.165919</td>\n",
       "      <td>28.216460</td>\n",
       "      <td>5000.049363</td>\n",
       "      <td>0.971900</td>\n",
       "      <td>1.336843</td>\n",
       "      <td>0.728191</td>\n",
       "      <td>87.987194</td>\n",
       "      <td>14.4</td>\n",
       "      <td>1.44830</td>\n",
       "    </tr>\n",
       "    <tr>\n",
       "      <th>4</th>\n",
       "      <td>Albania</td>\n",
       "      <td>2004</td>\n",
       "      <td>Europe</td>\n",
       "      <td>False</td>\n",
       "      <td>75.039</td>\n",
       "      <td>3026939</td>\n",
       "      <td>1.404059</td>\n",
       "      <td>6.773372</td>\n",
       "      <td>1469.264539</td>\n",
       "      <td>28.263066</td>\n",
       "      <td>5427.732662</td>\n",
       "      <td>2.420388</td>\n",
       "      <td>1.381158</td>\n",
       "      <td>0.675281</td>\n",
       "      <td>88.510583</td>\n",
       "      <td>15.0</td>\n",
       "      <td>1.37617</td>\n",
       "    </tr>\n",
       "  </tbody>\n",
       "</table>\n",
       "</div>"
      ],
      "text/plain": [
       "   Country  Year Continent  Least Developed  Life Expectancy  Population  \\\n",
       "0  Albania  2000    Europe            False           73.955     3089027   \n",
       "1  Albania  2001    Europe            False           74.288     3060173   \n",
       "2  Albania  2002    Europe            False           74.579     3051010   \n",
       "3  Albania  2003    Europe            False           74.828     3039616   \n",
       "4  Albania  2004    Europe            False           75.039     3026939   \n",
       "\n",
       "   CO2 emissions  Health expenditure  Electric power consumption  Forest area  \\\n",
       "0       1.026213            7.233370                 1414.703784    28.076642   \n",
       "1       1.055496            7.139524                 1449.647413    28.123248   \n",
       "2       1.232379            6.909341                 1351.230796    28.169854   \n",
       "3       1.338985            7.063490                 1578.165919    28.216460   \n",
       "4       1.404059            6.773372                 1469.264539    28.263066   \n",
       "\n",
       "   GDP per capita  Individuals using the Internet  Military expenditure  \\\n",
       "0     3860.804627                        0.114097              1.246360   \n",
       "1     4299.546493                        0.325798              1.309291   \n",
       "2     4661.402695                        0.390081              1.320034   \n",
       "3     5000.049363                        0.971900              1.336843   \n",
       "4     5427.732662                        2.420388              1.381158   \n",
       "\n",
       "   People practicing open defecation  \\\n",
       "0                           0.888853   \n",
       "1                           0.836397   \n",
       "2                           0.781899   \n",
       "3                           0.728191   \n",
       "4                           0.675281   \n",
       "\n",
       "   People using at least basic drinking water services  Obesity among adults  \\\n",
       "0                                          86.754471                    12.8   \n",
       "1                                          86.904070                    13.3   \n",
       "2                                          87.451635                    13.9   \n",
       "3                                          87.987194                    14.4   \n",
       "4                                          88.510583                    15.0   \n",
       "\n",
       "   Beer consumption per capita  \n",
       "0                      1.33431  \n",
       "1                      1.48995  \n",
       "2                      1.28697  \n",
       "3                      1.44830  \n",
       "4                      1.37617  "
      ]
     },
     "execution_count": 2,
     "metadata": {},
     "output_type": "execute_result"
    }
   ],
   "source": [
    "df = pd.read_csv(\"Life_Expectancy_00_15.csv\", sep = \";\")\n",
    "df.head()"
   ]
  },
  {
   "cell_type": "code",
   "execution_count": 4,
   "id": "f7b1af06",
   "metadata": {},
   "outputs": [
    {
     "data": {
      "text/plain": [
       "Index(['Country', 'Year', 'Continent', 'Least Developed', 'Life Expectancy',\n",
       "       'Population', 'CO2 emissions', 'Health expenditure',\n",
       "       'Electric power consumption', 'Forest area', 'GDP per capita',\n",
       "       'Individuals using the Internet', 'Military expenditure',\n",
       "       'People practicing open defecation',\n",
       "       'People using at least basic drinking water services',\n",
       "       'Obesity among adults', 'Beer consumption per capita'],\n",
       "      dtype='object')"
      ]
     },
     "execution_count": 4,
     "metadata": {},
     "output_type": "execute_result"
    }
   ],
   "source": [
    "df.columns"
   ]
  },
  {
   "cell_type": "code",
   "execution_count": 5,
   "id": "4699ffcf",
   "metadata": {},
   "outputs": [
    {
     "data": {
      "text/plain": [
       "(1904, 17)"
      ]
     },
     "execution_count": 5,
     "metadata": {},
     "output_type": "execute_result"
    }
   ],
   "source": [
    "df.shape"
   ]
  },
  {
   "cell_type": "code",
   "execution_count": 6,
   "id": "61b70e06",
   "metadata": {},
   "outputs": [
    {
     "data": {
      "text/plain": [
       "Country                                                 object\n",
       "Year                                                     int64\n",
       "Continent                                               object\n",
       "Least Developed                                           bool\n",
       "Life Expectancy                                        float64\n",
       "Population                                               int64\n",
       "CO2 emissions                                          float64\n",
       "Health expenditure                                     float64\n",
       "Electric power consumption                             float64\n",
       "Forest area                                            float64\n",
       "GDP per capita                                         float64\n",
       "Individuals using the Internet                         float64\n",
       "Military expenditure                                   float64\n",
       "People practicing open defecation                      float64\n",
       "People using at least basic drinking water services    float64\n",
       "Obesity among adults                                   float64\n",
       "Beer consumption per capita                            float64\n",
       "dtype: object"
      ]
     },
     "execution_count": 6,
     "metadata": {},
     "output_type": "execute_result"
    }
   ],
   "source": [
    "df.dtypes"
   ]
  },
  {
   "cell_type": "code",
   "execution_count": 8,
   "id": "b83a6825",
   "metadata": {},
   "outputs": [
    {
     "data": {
      "text/html": [
       "<div>\n",
       "<style scoped>\n",
       "    .dataframe tbody tr th:only-of-type {\n",
       "        vertical-align: middle;\n",
       "    }\n",
       "\n",
       "    .dataframe tbody tr th {\n",
       "        vertical-align: top;\n",
       "    }\n",
       "\n",
       "    .dataframe thead th {\n",
       "        text-align: right;\n",
       "    }\n",
       "</style>\n",
       "<table border=\"1\" class=\"dataframe\">\n",
       "  <thead>\n",
       "    <tr style=\"text-align: right;\">\n",
       "      <th></th>\n",
       "      <th>Year</th>\n",
       "      <th>Least Developed</th>\n",
       "      <th>Life Expectancy</th>\n",
       "      <th>Population</th>\n",
       "      <th>CO2 emissions</th>\n",
       "      <th>Health expenditure</th>\n",
       "      <th>Electric power consumption</th>\n",
       "      <th>Forest area</th>\n",
       "      <th>GDP per capita</th>\n",
       "      <th>Individuals using the Internet</th>\n",
       "      <th>Military expenditure</th>\n",
       "      <th>People practicing open defecation</th>\n",
       "      <th>People using at least basic drinking water services</th>\n",
       "      <th>Obesity among adults</th>\n",
       "      <th>Beer consumption per capita</th>\n",
       "    </tr>\n",
       "  </thead>\n",
       "  <tbody>\n",
       "    <tr>\n",
       "      <th>0</th>\n",
       "      <td>2000</td>\n",
       "      <td>False</td>\n",
       "      <td>73.955</td>\n",
       "      <td>3089027</td>\n",
       "      <td>1.026213</td>\n",
       "      <td>7.233370</td>\n",
       "      <td>1414.703784</td>\n",
       "      <td>28.076642</td>\n",
       "      <td>3860.804627</td>\n",
       "      <td>0.114097</td>\n",
       "      <td>1.246360</td>\n",
       "      <td>0.888853</td>\n",
       "      <td>86.754471</td>\n",
       "      <td>12.8</td>\n",
       "      <td>1.33431</td>\n",
       "    </tr>\n",
       "    <tr>\n",
       "      <th>1</th>\n",
       "      <td>2001</td>\n",
       "      <td>False</td>\n",
       "      <td>74.288</td>\n",
       "      <td>3060173</td>\n",
       "      <td>1.055496</td>\n",
       "      <td>7.139524</td>\n",
       "      <td>1449.647413</td>\n",
       "      <td>28.123248</td>\n",
       "      <td>4299.546493</td>\n",
       "      <td>0.325798</td>\n",
       "      <td>1.309291</td>\n",
       "      <td>0.836397</td>\n",
       "      <td>86.904070</td>\n",
       "      <td>13.3</td>\n",
       "      <td>1.48995</td>\n",
       "    </tr>\n",
       "    <tr>\n",
       "      <th>2</th>\n",
       "      <td>2002</td>\n",
       "      <td>False</td>\n",
       "      <td>74.579</td>\n",
       "      <td>3051010</td>\n",
       "      <td>1.232379</td>\n",
       "      <td>6.909341</td>\n",
       "      <td>1351.230796</td>\n",
       "      <td>28.169854</td>\n",
       "      <td>4661.402695</td>\n",
       "      <td>0.390081</td>\n",
       "      <td>1.320034</td>\n",
       "      <td>0.781899</td>\n",
       "      <td>87.451635</td>\n",
       "      <td>13.9</td>\n",
       "      <td>1.28697</td>\n",
       "    </tr>\n",
       "    <tr>\n",
       "      <th>3</th>\n",
       "      <td>2003</td>\n",
       "      <td>False</td>\n",
       "      <td>74.828</td>\n",
       "      <td>3039616</td>\n",
       "      <td>1.338985</td>\n",
       "      <td>7.063490</td>\n",
       "      <td>1578.165919</td>\n",
       "      <td>28.216460</td>\n",
       "      <td>5000.049363</td>\n",
       "      <td>0.971900</td>\n",
       "      <td>1.336843</td>\n",
       "      <td>0.728191</td>\n",
       "      <td>87.987194</td>\n",
       "      <td>14.4</td>\n",
       "      <td>1.44830</td>\n",
       "    </tr>\n",
       "    <tr>\n",
       "      <th>4</th>\n",
       "      <td>2004</td>\n",
       "      <td>False</td>\n",
       "      <td>75.039</td>\n",
       "      <td>3026939</td>\n",
       "      <td>1.404059</td>\n",
       "      <td>6.773372</td>\n",
       "      <td>1469.264539</td>\n",
       "      <td>28.263066</td>\n",
       "      <td>5427.732662</td>\n",
       "      <td>2.420388</td>\n",
       "      <td>1.381158</td>\n",
       "      <td>0.675281</td>\n",
       "      <td>88.510583</td>\n",
       "      <td>15.0</td>\n",
       "      <td>1.37617</td>\n",
       "    </tr>\n",
       "  </tbody>\n",
       "</table>\n",
       "</div>"
      ],
      "text/plain": [
       "   Year  Least Developed  Life Expectancy  Population  CO2 emissions  \\\n",
       "0  2000            False           73.955     3089027       1.026213   \n",
       "1  2001            False           74.288     3060173       1.055496   \n",
       "2  2002            False           74.579     3051010       1.232379   \n",
       "3  2003            False           74.828     3039616       1.338985   \n",
       "4  2004            False           75.039     3026939       1.404059   \n",
       "\n",
       "   Health expenditure  Electric power consumption  Forest area  \\\n",
       "0            7.233370                 1414.703784    28.076642   \n",
       "1            7.139524                 1449.647413    28.123248   \n",
       "2            6.909341                 1351.230796    28.169854   \n",
       "3            7.063490                 1578.165919    28.216460   \n",
       "4            6.773372                 1469.264539    28.263066   \n",
       "\n",
       "   GDP per capita  Individuals using the Internet  Military expenditure  \\\n",
       "0     3860.804627                        0.114097              1.246360   \n",
       "1     4299.546493                        0.325798              1.309291   \n",
       "2     4661.402695                        0.390081              1.320034   \n",
       "3     5000.049363                        0.971900              1.336843   \n",
       "4     5427.732662                        2.420388              1.381158   \n",
       "\n",
       "   People practicing open defecation  \\\n",
       "0                           0.888853   \n",
       "1                           0.836397   \n",
       "2                           0.781899   \n",
       "3                           0.728191   \n",
       "4                           0.675281   \n",
       "\n",
       "   People using at least basic drinking water services  Obesity among adults  \\\n",
       "0                                          86.754471                    12.8   \n",
       "1                                          86.904070                    13.3   \n",
       "2                                          87.451635                    13.9   \n",
       "3                                          87.987194                    14.4   \n",
       "4                                          88.510583                    15.0   \n",
       "\n",
       "   Beer consumption per capita  \n",
       "0                      1.33431  \n",
       "1                      1.48995  \n",
       "2                      1.28697  \n",
       "3                      1.44830  \n",
       "4                      1.37617  "
      ]
     },
     "execution_count": 8,
     "metadata": {},
     "output_type": "execute_result"
    }
   ],
   "source": [
    "# filtering numeric features\n",
    "df2 = df._get_numeric_data()\n",
    "df2.head()"
   ]
  },
  {
   "cell_type": "code",
   "execution_count": 9,
   "id": "60f12b58",
   "metadata": {},
   "outputs": [
    {
     "data": {
      "text/plain": [
       "Year                                                   0\n",
       "Least Developed                                        0\n",
       "Life Expectancy                                        0\n",
       "Population                                             0\n",
       "CO2 emissions                                          0\n",
       "Health expenditure                                     0\n",
       "Electric power consumption                             0\n",
       "Forest area                                            0\n",
       "GDP per capita                                         0\n",
       "Individuals using the Internet                         0\n",
       "Military expenditure                                   0\n",
       "People practicing open defecation                      0\n",
       "People using at least basic drinking water services    0\n",
       "Obesity among adults                                   0\n",
       "Beer consumption per capita                            0\n",
       "dtype: int64"
      ]
     },
     "execution_count": 9,
     "metadata": {},
     "output_type": "execute_result"
    }
   ],
   "source": [
    "# checking for null values\n",
    "df2.isnull().sum()"
   ]
  },
  {
   "cell_type": "code",
   "execution_count": 10,
   "id": "3f764f14",
   "metadata": {},
   "outputs": [
    {
     "data": {
      "text/html": [
       "<div>\n",
       "<style scoped>\n",
       "    .dataframe tbody tr th:only-of-type {\n",
       "        vertical-align: middle;\n",
       "    }\n",
       "\n",
       "    .dataframe tbody tr th {\n",
       "        vertical-align: top;\n",
       "    }\n",
       "\n",
       "    .dataframe thead th {\n",
       "        text-align: right;\n",
       "    }\n",
       "</style>\n",
       "<table border=\"1\" class=\"dataframe\">\n",
       "  <thead>\n",
       "    <tr style=\"text-align: right;\">\n",
       "      <th></th>\n",
       "      <th>Year</th>\n",
       "      <th>Life Expectancy</th>\n",
       "      <th>Population</th>\n",
       "      <th>CO2 emissions</th>\n",
       "      <th>Health expenditure</th>\n",
       "      <th>Electric power consumption</th>\n",
       "      <th>Forest area</th>\n",
       "      <th>GDP per capita</th>\n",
       "      <th>Individuals using the Internet</th>\n",
       "      <th>Military expenditure</th>\n",
       "      <th>People practicing open defecation</th>\n",
       "      <th>People using at least basic drinking water services</th>\n",
       "      <th>Obesity among adults</th>\n",
       "      <th>Beer consumption per capita</th>\n",
       "    </tr>\n",
       "  </thead>\n",
       "  <tbody>\n",
       "    <tr>\n",
       "      <th>count</th>\n",
       "      <td>1904.000000</td>\n",
       "      <td>1904.000000</td>\n",
       "      <td>1.904000e+03</td>\n",
       "      <td>1904.000000</td>\n",
       "      <td>1904.000000</td>\n",
       "      <td>1904.000000</td>\n",
       "      <td>1904.000000</td>\n",
       "      <td>1904.000000</td>\n",
       "      <td>1904.000000</td>\n",
       "      <td>1904.000000</td>\n",
       "      <td>1904.000000</td>\n",
       "      <td>1904.000000</td>\n",
       "      <td>1904.000000</td>\n",
       "      <td>1904.000000</td>\n",
       "    </tr>\n",
       "    <tr>\n",
       "      <th>mean</th>\n",
       "      <td>2007.500000</td>\n",
       "      <td>70.817343</td>\n",
       "      <td>5.075583e+07</td>\n",
       "      <td>5.356796</td>\n",
       "      <td>6.096855</td>\n",
       "      <td>3795.909462</td>\n",
       "      <td>30.547158</td>\n",
       "      <td>18094.113142</td>\n",
       "      <td>29.736220</td>\n",
       "      <td>2.206872</td>\n",
       "      <td>9.511306</td>\n",
       "      <td>86.836539</td>\n",
       "      <td>16.213393</td>\n",
       "      <td>2.199408</td>\n",
       "    </tr>\n",
       "    <tr>\n",
       "      <th>std</th>\n",
       "      <td>4.610983</td>\n",
       "      <td>8.489200</td>\n",
       "      <td>1.650247e+08</td>\n",
       "      <td>6.218898</td>\n",
       "      <td>2.451488</td>\n",
       "      <td>4546.577231</td>\n",
       "      <td>20.855899</td>\n",
       "      <td>19389.828835</td>\n",
       "      <td>27.773360</td>\n",
       "      <td>2.969809</td>\n",
       "      <td>17.352796</td>\n",
       "      <td>17.603121</td>\n",
       "      <td>8.213384</td>\n",
       "      <td>1.903435</td>\n",
       "    </tr>\n",
       "    <tr>\n",
       "      <th>min</th>\n",
       "      <td>2000.000000</td>\n",
       "      <td>43.065000</td>\n",
       "      <td>3.331660e+05</td>\n",
       "      <td>0.032419</td>\n",
       "      <td>0.410000</td>\n",
       "      <td>22.755823</td>\n",
       "      <td>0.000000</td>\n",
       "      <td>434.835252</td>\n",
       "      <td>0.000168</td>\n",
       "      <td>0.000000</td>\n",
       "      <td>0.000000</td>\n",
       "      <td>18.085445</td>\n",
       "      <td>1.100000</td>\n",
       "      <td>0.000000</td>\n",
       "    </tr>\n",
       "    <tr>\n",
       "      <th>25%</th>\n",
       "      <td>2003.750000</td>\n",
       "      <td>66.857250</td>\n",
       "      <td>4.218751e+06</td>\n",
       "      <td>1.001108</td>\n",
       "      <td>4.214776</td>\n",
       "      <td>605.280403</td>\n",
       "      <td>11.630910</td>\n",
       "      <td>4614.709959</td>\n",
       "      <td>5.000000</td>\n",
       "      <td>1.087925</td>\n",
       "      <td>0.000000</td>\n",
       "      <td>82.268573</td>\n",
       "      <td>8.600000</td>\n",
       "      <td>0.484170</td>\n",
       "    </tr>\n",
       "    <tr>\n",
       "      <th>50%</th>\n",
       "      <td>2007.500000</td>\n",
       "      <td>73.009500</td>\n",
       "      <td>1.076918e+07</td>\n",
       "      <td>3.545525</td>\n",
       "      <td>5.862418</td>\n",
       "      <td>2143.657892</td>\n",
       "      <td>30.888136</td>\n",
       "      <td>11155.012085</td>\n",
       "      <td>20.000000</td>\n",
       "      <td>1.532535</td>\n",
       "      <td>0.750000</td>\n",
       "      <td>94.881928</td>\n",
       "      <td>18.000000</td>\n",
       "      <td>1.791200</td>\n",
       "    </tr>\n",
       "    <tr>\n",
       "      <th>75%</th>\n",
       "      <td>2011.250000</td>\n",
       "      <td>76.765402</td>\n",
       "      <td>3.692124e+07</td>\n",
       "      <td>7.629088</td>\n",
       "      <td>7.880948</td>\n",
       "      <td>5407.221626</td>\n",
       "      <td>46.671068</td>\n",
       "      <td>26366.811600</td>\n",
       "      <td>51.824997</td>\n",
       "      <td>2.414676</td>\n",
       "      <td>10.496432</td>\n",
       "      <td>99.500000</td>\n",
       "      <td>22.300000</td>\n",
       "      <td>3.720080</td>\n",
       "    </tr>\n",
       "    <tr>\n",
       "      <th>max</th>\n",
       "      <td>2015.000000</td>\n",
       "      <td>83.229268</td>\n",
       "      <td>1.379860e+09</td>\n",
       "      <td>50.954034</td>\n",
       "      <td>16.524073</td>\n",
       "      <td>25590.689430</td>\n",
       "      <td>91.978112</td>\n",
       "      <td>141634.703800</td>\n",
       "      <td>96.810326</td>\n",
       "      <td>32.655671</td>\n",
       "      <td>86.799174</td>\n",
       "      <td>100.000005</td>\n",
       "      <td>36.700000</td>\n",
       "      <td>7.877850</td>\n",
       "    </tr>\n",
       "  </tbody>\n",
       "</table>\n",
       "</div>"
      ],
      "text/plain": [
       "              Year  Life Expectancy    Population  CO2 emissions  \\\n",
       "count  1904.000000      1904.000000  1.904000e+03    1904.000000   \n",
       "mean   2007.500000        70.817343  5.075583e+07       5.356796   \n",
       "std       4.610983         8.489200  1.650247e+08       6.218898   \n",
       "min    2000.000000        43.065000  3.331660e+05       0.032419   \n",
       "25%    2003.750000        66.857250  4.218751e+06       1.001108   \n",
       "50%    2007.500000        73.009500  1.076918e+07       3.545525   \n",
       "75%    2011.250000        76.765402  3.692124e+07       7.629088   \n",
       "max    2015.000000        83.229268  1.379860e+09      50.954034   \n",
       "\n",
       "       Health expenditure  Electric power consumption  Forest area  \\\n",
       "count         1904.000000                 1904.000000  1904.000000   \n",
       "mean             6.096855                 3795.909462    30.547158   \n",
       "std              2.451488                 4546.577231    20.855899   \n",
       "min              0.410000                   22.755823     0.000000   \n",
       "25%              4.214776                  605.280403    11.630910   \n",
       "50%              5.862418                 2143.657892    30.888136   \n",
       "75%              7.880948                 5407.221626    46.671068   \n",
       "max             16.524073                25590.689430    91.978112   \n",
       "\n",
       "       GDP per capita  Individuals using the Internet  Military expenditure  \\\n",
       "count     1904.000000                     1904.000000           1904.000000   \n",
       "mean     18094.113142                       29.736220              2.206872   \n",
       "std      19389.828835                       27.773360              2.969809   \n",
       "min        434.835252                        0.000168              0.000000   \n",
       "25%       4614.709959                        5.000000              1.087925   \n",
       "50%      11155.012085                       20.000000              1.532535   \n",
       "75%      26366.811600                       51.824997              2.414676   \n",
       "max     141634.703800                       96.810326             32.655671   \n",
       "\n",
       "       People practicing open defecation  \\\n",
       "count                        1904.000000   \n",
       "mean                            9.511306   \n",
       "std                            17.352796   \n",
       "min                             0.000000   \n",
       "25%                             0.000000   \n",
       "50%                             0.750000   \n",
       "75%                            10.496432   \n",
       "max                            86.799174   \n",
       "\n",
       "       People using at least basic drinking water services  \\\n",
       "count                                        1904.000000     \n",
       "mean                                           86.836539     \n",
       "std                                            17.603121     \n",
       "min                                            18.085445     \n",
       "25%                                            82.268573     \n",
       "50%                                            94.881928     \n",
       "75%                                            99.500000     \n",
       "max                                           100.000005     \n",
       "\n",
       "       Obesity among adults  Beer consumption per capita  \n",
       "count           1904.000000                  1904.000000  \n",
       "mean              16.213393                     2.199408  \n",
       "std                8.213384                     1.903435  \n",
       "min                1.100000                     0.000000  \n",
       "25%                8.600000                     0.484170  \n",
       "50%               18.000000                     1.791200  \n",
       "75%               22.300000                     3.720080  \n",
       "max               36.700000                     7.877850  "
      ]
     },
     "execution_count": 10,
     "metadata": {},
     "output_type": "execute_result"
    }
   ],
   "source": [
    "# generall statistics\n",
    "df2.describe()"
   ]
  },
  {
   "cell_type": "code",
   "execution_count": 11,
   "id": "f649c2db",
   "metadata": {},
   "outputs": [
    {
     "data": {
      "text/html": [
       "<div>\n",
       "<style scoped>\n",
       "    .dataframe tbody tr th:only-of-type {\n",
       "        vertical-align: middle;\n",
       "    }\n",
       "\n",
       "    .dataframe tbody tr th {\n",
       "        vertical-align: top;\n",
       "    }\n",
       "\n",
       "    .dataframe thead th {\n",
       "        text-align: right;\n",
       "    }\n",
       "</style>\n",
       "<table border=\"1\" class=\"dataframe\">\n",
       "  <thead>\n",
       "    <tr style=\"text-align: right;\">\n",
       "      <th></th>\n",
       "      <th>GDP per capita</th>\n",
       "      <th>CO2 emissions</th>\n",
       "    </tr>\n",
       "  </thead>\n",
       "  <tbody>\n",
       "    <tr>\n",
       "      <th>GDP per capita</th>\n",
       "      <td>1.000000</td>\n",
       "      <td>0.857655</td>\n",
       "    </tr>\n",
       "    <tr>\n",
       "      <th>CO2 emissions</th>\n",
       "      <td>0.857655</td>\n",
       "      <td>1.000000</td>\n",
       "    </tr>\n",
       "  </tbody>\n",
       "</table>\n",
       "</div>"
      ],
      "text/plain": [
       "                GDP per capita  CO2 emissions\n",
       "GDP per capita        1.000000       0.857655\n",
       "CO2 emissions         0.857655       1.000000"
      ]
     },
     "execution_count": 11,
     "metadata": {},
     "output_type": "execute_result"
    }
   ],
   "source": [
    "# checking for correlation between GDP per capita and CO2 emissions\n",
    "df2[[\"GDP per capita\", \"CO2 emissions\"]].corr()"
   ]
  },
  {
   "cell_type": "code",
   "execution_count": 12,
   "id": "8b9275d6",
   "metadata": {},
   "outputs": [
    {
     "name": "stdout",
     "output_type": "stream",
     "text": [
      "[1.44155829 1.56224552 1.66178338 ... 1.08395123 1.09816788 1.11661217]\n"
     ]
    }
   ],
   "source": [
    "# performing linear regression\n",
    "x = np.array(df[[\"GDP per capita\"]])\n",
    "y = np.array(df[\"CO2 emissions\"])\n",
    "\n",
    "from sklearn.linear_model import LinearRegression\n",
    "lr = LinearRegression()\n",
    "lr.fit(x,y)\n",
    "y_hat = lr.predict(x)\n",
    "print(y_hat)"
   ]
  },
  {
   "cell_type": "code",
   "execution_count": 13,
   "id": "fddf383f",
   "metadata": {},
   "outputs": [
    {
     "data": {
      "text/plain": [
       "Text(0, 0.5, 'CO2 emissions')"
      ]
     },
     "execution_count": 13,
     "metadata": {},
     "output_type": "execute_result"
    },
    {
     "data": {
      "image/png": "[encoded data removed]",
      "text/plain": [
       "<Figure size 720x576 with 1 Axes>"
      ]
     },
     "metadata": {
      "needs_background": "light"
     },
     "output_type": "display_data"
    }
   ],
   "source": [
    "# visualizing the linear regression\n",
    "width, height = 10, 8\n",
    "plt.figure(figsize = (width,height))\n",
    "plt.scatter(x,y, color = \"b\")\n",
    "plt.plot(x,y_hat, color = \"r\")\n",
    "plt.title(\"Linear Regression\")\n",
    "plt.xlabel(\"GDP per capita\")\n",
    "plt.ylabel(\"CO2 emissions\")"
   ]
  },
  {
   "cell_type": "code",
   "execution_count": 23,
   "id": "ae862104",
   "metadata": {},
   "outputs": [
    {
     "name": "stdout",
     "output_type": "stream",
     "text": [
      "[1.32469192 1.46282146 1.57636098 ... 0.91236317 0.92884297 0.9502125 ]\n"
     ]
    }
   ],
   "source": [
    "# performing polynomial regression\n",
    "from sklearn.preprocessing import PolynomialFeatures\n",
    "poly = PolynomialFeatures(degree = 3)\n",
    "\n",
    "x_poly = poly.fit_transform(x)\n",
    "\n",
    "lr2 = LinearRegression()\n",
    "lr2.fit(x_poly,y)\n",
    "y_hat2 = lr2.predict(x_poly)\n",
    "print(y_hat2)"
   ]
  },
  {
   "cell_type": "code",
   "execution_count": 24,
   "id": "9716bd28",
   "metadata": {},
   "outputs": [
    {
     "data": {
      "text/plain": [
       "Text(0, 0.5, 'CO2 emissions')"
      ]
     },
     "execution_count": 24,
     "metadata": {},
     "output_type": "execute_result"
    },
    {
     "data": {
      "image/png": "[encoded data removed]",
      "text/plain": [
       "<Figure size 720x576 with 1 Axes>"
      ]
     },
     "metadata": {
      "needs_background": "light"
     },
     "output_type": "display_data"
    }
   ],
   "source": [
    "# visualizing polynomial regression using a regression plot\n",
    "plt.figure(figsize = (width,height))\n",
    "plt.scatter(x,y, color = \"b\")\n",
    "plt.plot(x,y_hat2, color = \"r\")\n",
    "plt.title(\"Polynomial Regression\")\n",
    "plt.xlabel(\"GDP per capita\")\n",
    "plt.ylabel(\"CO2 emissions\")"
   ]
  },
  {
   "cell_type": "code",
   "execution_count": 18,
   "id": "e7ecbd82",
   "metadata": {},
   "outputs": [
    {
     "name": "stderr",
     "output_type": "stream",
     "text": [
      "C:\\ProgramData\\Anaconda3\\lib\\site-packages\\seaborn\\distributions.py:2619: FutureWarning: `distplot` is a deprecated function and will be removed in a future version. Please adapt your code to use either `displot` (a figure-level function with similar flexibility) or `kdeplot` (an axes-level function for kernel density plots).\n",
      "  warnings.warn(msg, FutureWarning)\n",
      "C:\\ProgramData\\Anaconda3\\lib\\site-packages\\seaborn\\distributions.py:2619: FutureWarning: `distplot` is a deprecated function and will be removed in a future version. Please adapt your code to use either `displot` (a figure-level function with similar flexibility) or `kdeplot` (an axes-level function for kernel density plots).\n",
      "  warnings.warn(msg, FutureWarning)\n"
     ]
    },
    {
     "data": {
      "text/plain": [
       "Text(0.5, 0, 'CO2 emissions')"
      ]
     },
     "execution_count": 18,
     "metadata": {},
     "output_type": "execute_result"
    },
    {
     "data": {
      "image/png": "[encoded data removed]",
      "text/plain": [
       "<Figure size 720x576 with 1 Axes>"
      ]
     },
     "metadata": {
      "needs_background": "light"
     },
     "output_type": "display_data"
    }
   ],
   "source": [
    "# distribution plot for polynomial regession\n",
    "plt.figure(figsize=(width,height))\n",
    "ax1 = sns.distplot(x = y, color = \"r\", hist=False, label = \"Actual values\")\n",
    "sns.distplot(x = y_hat2, color = \"b\", hist=False, label = \"Fitted values\", ax = ax1)\n",
    "plt.title(\"Actual vs Fitted values of CO2 emsissions\")\n",
    "plt.xlabel(\"CO2 emissions\")"
   ]
  },
  {
   "cell_type": "code",
   "execution_count": 30,
   "id": "fdb862d5",
   "metadata": {},
   "outputs": [
    {
     "data": {
      "text/plain": [
       "Text(0.5, 1.0, 'R^2 vs order of polynomial')"
      ]
     },
     "execution_count": 30,
     "metadata": {},
     "output_type": "execute_result"
    },
    {
     "data": {
      "image/png": "[encoded data removed]",
      "text/plain": [
       "<Figure size 432x288 with 1 Axes>"
      ]
     },
     "metadata": {
      "needs_background": "light"
     },
     "output_type": "display_data"
    }
   ],
   "source": [
    "# plotting R^2 vs order of polynomial to see the order which gives the highest R^2 value\n",
    "Rsq_test = []\n",
    "order = [1,2,3,4]\n",
    "for n in order:\n",
    "    pr = PolynomialFeatures(degree=n)\n",
    "    x_pr = pr.fit_transform(x)\n",
    "    lr.fit(x_pr, y)\n",
    "    Rsq_test.append(lr.score(x_pr, y))\n",
    "    \n",
    "plt.plot(order, Rsq_test)\n",
    "plt.xlabel(\"order\")\n",
    "plt.ylabel(\"R^2\")\n",
    "plt.title(\"R^2 vs order of polynomial\")"
   ]
  }
 ],
 "metadata": {
  "kernelspec": {
   "display_name": "Python 3 (ipykernel)",
   "language": "python",
   "name": "python3"
  },
  "language_info": {
   "codemirror_mode": {
    "name": "ipython",
    "version": 3
   },
   "file_extension": ".py",
   "mimetype": "text/x-python",
   "name": "python",
   "nbconvert_exporter": "python",
   "pygments_lexer": "ipython3",
   "version": "3.10.7"
  },
  "vscode": {
   "interpreter": {
    "hash": "76d7c06053c3456e5600312cec90888656fc0ed30c03d8425b9dac6e4fc8e014"
   }
  }
 },
 "nbformat": 4,
 "nbformat_minor": 5
}
