{
 "cells": [
  {
   "cell_type": "code",
   "execution_count": 1,
   "id": "5b65a665",
   "metadata": {},
   "outputs": [],
   "source": [
    "import numpy as np\n",
    "import pandas as pd\n",
    "import seaborn as sns\n",
    "import matplotlib.pyplot as plt\n",
    "%matplotlib inline"
   ]
  },
  {
   "cell_type": "code",
   "execution_count": 2,
   "id": "500f6209",
   "metadata": {},
   "outputs": [
    {
     "data": {
      "text/html": [
       "<div>\n",
       "<style scoped>\n",
       "    .dataframe tbody tr th:only-of-type {\n",
       "        vertical-align: middle;\n",
       "    }\n",
       "\n",
       "    .dataframe tbody tr th {\n",
       "        vertical-align: top;\n",
       "    }\n",
       "\n",
       "    .dataframe thead th {\n",
       "        text-align: right;\n",
       "    }\n",
       "</style>\n",
       "<table border=\"1\" class=\"dataframe\">\n",
       "  <thead>\n",
       "    <tr style=\"text-align: right;\">\n",
       "      <th></th>\n",
       "      <th>Date</th>\n",
       "      <th>HomeTeam</th>\n",
       "      <th>AwayTeam</th>\n",
       "      <th>FTHG</th>\n",
       "      <th>FTAG</th>\n",
       "      <th>FTR</th>\n",
       "      <th>HTHG</th>\n",
       "      <th>HTAG</th>\n",
       "      <th>HTR</th>\n",
       "      <th>Referee</th>\n",
       "      <th>...</th>\n",
       "      <th>HST</th>\n",
       "      <th>AST</th>\n",
       "      <th>HF</th>\n",
       "      <th>AF</th>\n",
       "      <th>HC</th>\n",
       "      <th>AC</th>\n",
       "      <th>HY</th>\n",
       "      <th>AY</th>\n",
       "      <th>HR</th>\n",
       "      <th>AR</th>\n",
       "    </tr>\n",
       "  </thead>\n",
       "  <tbody>\n",
       "    <tr>\n",
       "      <th>0</th>\n",
       "      <td>13/08/2021</td>\n",
       "      <td>Brentford</td>\n",
       "      <td>Arsenal</td>\n",
       "      <td>2</td>\n",
       "      <td>0</td>\n",
       "      <td>H</td>\n",
       "      <td>1</td>\n",
       "      <td>0</td>\n",
       "      <td>H</td>\n",
       "      <td>M Oliver</td>\n",
       "      <td>...</td>\n",
       "      <td>3</td>\n",
       "      <td>4</td>\n",
       "      <td>12</td>\n",
       "      <td>8</td>\n",
       "      <td>2</td>\n",
       "      <td>5</td>\n",
       "      <td>0</td>\n",
       "      <td>0</td>\n",
       "      <td>0</td>\n",
       "      <td>0</td>\n",
       "    </tr>\n",
       "    <tr>\n",
       "      <th>1</th>\n",
       "      <td>14/08/2021</td>\n",
       "      <td>Man United</td>\n",
       "      <td>Leeds</td>\n",
       "      <td>5</td>\n",
       "      <td>1</td>\n",
       "      <td>H</td>\n",
       "      <td>1</td>\n",
       "      <td>0</td>\n",
       "      <td>H</td>\n",
       "      <td>P Tierney</td>\n",
       "      <td>...</td>\n",
       "      <td>8</td>\n",
       "      <td>3</td>\n",
       "      <td>11</td>\n",
       "      <td>9</td>\n",
       "      <td>5</td>\n",
       "      <td>4</td>\n",
       "      <td>1</td>\n",
       "      <td>2</td>\n",
       "      <td>0</td>\n",
       "      <td>0</td>\n",
       "    </tr>\n",
       "    <tr>\n",
       "      <th>2</th>\n",
       "      <td>14/08/2021</td>\n",
       "      <td>Burnley</td>\n",
       "      <td>Brighton</td>\n",
       "      <td>1</td>\n",
       "      <td>2</td>\n",
       "      <td>A</td>\n",
       "      <td>1</td>\n",
       "      <td>0</td>\n",
       "      <td>H</td>\n",
       "      <td>D Coote</td>\n",
       "      <td>...</td>\n",
       "      <td>3</td>\n",
       "      <td>8</td>\n",
       "      <td>10</td>\n",
       "      <td>7</td>\n",
       "      <td>7</td>\n",
       "      <td>6</td>\n",
       "      <td>2</td>\n",
       "      <td>1</td>\n",
       "      <td>0</td>\n",
       "      <td>0</td>\n",
       "    </tr>\n",
       "    <tr>\n",
       "      <th>3</th>\n",
       "      <td>14/08/2021</td>\n",
       "      <td>Chelsea</td>\n",
       "      <td>Crystal Palace</td>\n",
       "      <td>3</td>\n",
       "      <td>0</td>\n",
       "      <td>H</td>\n",
       "      <td>2</td>\n",
       "      <td>0</td>\n",
       "      <td>H</td>\n",
       "      <td>J Moss</td>\n",
       "      <td>...</td>\n",
       "      <td>6</td>\n",
       "      <td>1</td>\n",
       "      <td>15</td>\n",
       "      <td>11</td>\n",
       "      <td>5</td>\n",
       "      <td>2</td>\n",
       "      <td>0</td>\n",
       "      <td>0</td>\n",
       "      <td>0</td>\n",
       "      <td>0</td>\n",
       "    </tr>\n",
       "    <tr>\n",
       "      <th>4</th>\n",
       "      <td>14/08/2021</td>\n",
       "      <td>Everton</td>\n",
       "      <td>Southampton</td>\n",
       "      <td>3</td>\n",
       "      <td>1</td>\n",
       "      <td>H</td>\n",
       "      <td>0</td>\n",
       "      <td>1</td>\n",
       "      <td>A</td>\n",
       "      <td>A Madley</td>\n",
       "      <td>...</td>\n",
       "      <td>6</td>\n",
       "      <td>3</td>\n",
       "      <td>13</td>\n",
       "      <td>15</td>\n",
       "      <td>6</td>\n",
       "      <td>8</td>\n",
       "      <td>2</td>\n",
       "      <td>0</td>\n",
       "      <td>0</td>\n",
       "      <td>0</td>\n",
       "    </tr>\n",
       "  </tbody>\n",
       "</table>\n",
       "<p>5 rows × 22 columns</p>\n",
       "</div>"
      ],
      "text/plain": [
       "         Date    HomeTeam        AwayTeam  FTHG  FTAG FTR  HTHG  HTAG HTR  \\\n",
       "0  13/08/2021   Brentford         Arsenal     2     0   H     1     0   H   \n",
       "1  14/08/2021  Man United           Leeds     5     1   H     1     0   H   \n",
       "2  14/08/2021     Burnley        Brighton     1     2   A     1     0   H   \n",
       "3  14/08/2021     Chelsea  Crystal Palace     3     0   H     2     0   H   \n",
       "4  14/08/2021     Everton     Southampton     3     1   H     0     1   A   \n",
       "\n",
       "     Referee  ...  HST  AST  HF  AF  HC  AC  HY  AY  HR  AR  \n",
       "0   M Oliver  ...    3    4  12   8   2   5   0   0   0   0  \n",
       "1  P Tierney  ...    8    3  11   9   5   4   1   2   0   0  \n",
       "2    D Coote  ...    3    8  10   7   7   6   2   1   0   0  \n",
       "3     J Moss  ...    6    1  15  11   5   2   0   0   0   0  \n",
       "4   A Madley  ...    6    3  13  15   6   8   2   0   0   0  \n",
       "\n",
       "[5 rows x 22 columns]"
      ]
     },
     "execution_count": 2,
     "metadata": {},
     "output_type": "execute_result"
    }
   ],
   "source": [
    "prem_data = pd.read_csv(\"Premier League 21-22 data.csv\")\n",
    "prem_data.head()"
   ]
  },
  {
   "cell_type": "code",
   "execution_count": 3,
   "id": "7b9f831c",
   "metadata": {},
   "outputs": [
    {
     "data": {
      "text/plain": [
       "Index(['Date', 'HomeTeam', 'AwayTeam', 'FTHG', 'FTAG', 'FTR', 'HTHG', 'HTAG',\n",
       "       'HTR', 'Referee', 'HS', 'AS', 'HST', 'AST', 'HF', 'AF', 'HC', 'AC',\n",
       "       'HY', 'AY', 'HR', 'AR'],\n",
       "      dtype='object')"
      ]
     },
     "execution_count": 3,
     "metadata": {},
     "output_type": "execute_result"
    }
   ],
   "source": [
    "prem_data.columns"
   ]
  },
  {
   "cell_type": "code",
   "execution_count": 4,
   "id": "cf4d4357",
   "metadata": {},
   "outputs": [
    {
     "data": {
      "text/html": [
       "<div>\n",
       "<style scoped>\n",
       "    .dataframe tbody tr th:only-of-type {\n",
       "        vertical-align: middle;\n",
       "    }\n",
       "\n",
       "    .dataframe tbody tr th {\n",
       "        vertical-align: top;\n",
       "    }\n",
       "\n",
       "    .dataframe thead th {\n",
       "        text-align: right;\n",
       "    }\n",
       "</style>\n",
       "<table border=\"1\" class=\"dataframe\">\n",
       "  <thead>\n",
       "    <tr style=\"text-align: right;\">\n",
       "      <th></th>\n",
       "      <th>date</th>\n",
       "      <th>home_team</th>\n",
       "      <th>away_team</th>\n",
       "      <th>full_time_home_goals</th>\n",
       "      <th>full_time_away_goals</th>\n",
       "      <th>full_time_result</th>\n",
       "      <th>half_time_home_goals</th>\n",
       "      <th>half_time_away_goals</th>\n",
       "      <th>half_time_results</th>\n",
       "      <th>referee</th>\n",
       "      <th>...</th>\n",
       "      <th>home_shot_target</th>\n",
       "      <th>away_shot_target</th>\n",
       "      <th>home_fouls</th>\n",
       "      <th>away_fouls</th>\n",
       "      <th>home_corner</th>\n",
       "      <th>away_corner</th>\n",
       "      <th>home_yellow</th>\n",
       "      <th>away_yellow</th>\n",
       "      <th>home_red</th>\n",
       "      <th>away_red</th>\n",
       "    </tr>\n",
       "  </thead>\n",
       "  <tbody>\n",
       "    <tr>\n",
       "      <th>0</th>\n",
       "      <td>13/08/2021</td>\n",
       "      <td>Brentford</td>\n",
       "      <td>Arsenal</td>\n",
       "      <td>2</td>\n",
       "      <td>0</td>\n",
       "      <td>H</td>\n",
       "      <td>1</td>\n",
       "      <td>0</td>\n",
       "      <td>H</td>\n",
       "      <td>M Oliver</td>\n",
       "      <td>...</td>\n",
       "      <td>3</td>\n",
       "      <td>4</td>\n",
       "      <td>12</td>\n",
       "      <td>8</td>\n",
       "      <td>2</td>\n",
       "      <td>5</td>\n",
       "      <td>0</td>\n",
       "      <td>0</td>\n",
       "      <td>0</td>\n",
       "      <td>0</td>\n",
       "    </tr>\n",
       "    <tr>\n",
       "      <th>1</th>\n",
       "      <td>14/08/2021</td>\n",
       "      <td>Man United</td>\n",
       "      <td>Leeds</td>\n",
       "      <td>5</td>\n",
       "      <td>1</td>\n",
       "      <td>H</td>\n",
       "      <td>1</td>\n",
       "      <td>0</td>\n",
       "      <td>H</td>\n",
       "      <td>P Tierney</td>\n",
       "      <td>...</td>\n",
       "      <td>8</td>\n",
       "      <td>3</td>\n",
       "      <td>11</td>\n",
       "      <td>9</td>\n",
       "      <td>5</td>\n",
       "      <td>4</td>\n",
       "      <td>1</td>\n",
       "      <td>2</td>\n",
       "      <td>0</td>\n",
       "      <td>0</td>\n",
       "    </tr>\n",
       "    <tr>\n",
       "      <th>2</th>\n",
       "      <td>14/08/2021</td>\n",
       "      <td>Burnley</td>\n",
       "      <td>Brighton</td>\n",
       "      <td>1</td>\n",
       "      <td>2</td>\n",
       "      <td>A</td>\n",
       "      <td>1</td>\n",
       "      <td>0</td>\n",
       "      <td>H</td>\n",
       "      <td>D Coote</td>\n",
       "      <td>...</td>\n",
       "      <td>3</td>\n",
       "      <td>8</td>\n",
       "      <td>10</td>\n",
       "      <td>7</td>\n",
       "      <td>7</td>\n",
       "      <td>6</td>\n",
       "      <td>2</td>\n",
       "      <td>1</td>\n",
       "      <td>0</td>\n",
       "      <td>0</td>\n",
       "    </tr>\n",
       "    <tr>\n",
       "      <th>3</th>\n",
       "      <td>14/08/2021</td>\n",
       "      <td>Chelsea</td>\n",
       "      <td>Crystal Palace</td>\n",
       "      <td>3</td>\n",
       "      <td>0</td>\n",
       "      <td>H</td>\n",
       "      <td>2</td>\n",
       "      <td>0</td>\n",
       "      <td>H</td>\n",
       "      <td>J Moss</td>\n",
       "      <td>...</td>\n",
       "      <td>6</td>\n",
       "      <td>1</td>\n",
       "      <td>15</td>\n",
       "      <td>11</td>\n",
       "      <td>5</td>\n",
       "      <td>2</td>\n",
       "      <td>0</td>\n",
       "      <td>0</td>\n",
       "      <td>0</td>\n",
       "      <td>0</td>\n",
       "    </tr>\n",
       "    <tr>\n",
       "      <th>4</th>\n",
       "      <td>14/08/2021</td>\n",
       "      <td>Everton</td>\n",
       "      <td>Southampton</td>\n",
       "      <td>3</td>\n",
       "      <td>1</td>\n",
       "      <td>H</td>\n",
       "      <td>0</td>\n",
       "      <td>1</td>\n",
       "      <td>A</td>\n",
       "      <td>A Madley</td>\n",
       "      <td>...</td>\n",
       "      <td>6</td>\n",
       "      <td>3</td>\n",
       "      <td>13</td>\n",
       "      <td>15</td>\n",
       "      <td>6</td>\n",
       "      <td>8</td>\n",
       "      <td>2</td>\n",
       "      <td>0</td>\n",
       "      <td>0</td>\n",
       "      <td>0</td>\n",
       "    </tr>\n",
       "  </tbody>\n",
       "</table>\n",
       "<p>5 rows × 22 columns</p>\n",
       "</div>"
      ],
      "text/plain": [
       "         date   home_team       away_team  full_time_home_goals  \\\n",
       "0  13/08/2021   Brentford         Arsenal                     2   \n",
       "1  14/08/2021  Man United           Leeds                     5   \n",
       "2  14/08/2021     Burnley        Brighton                     1   \n",
       "3  14/08/2021     Chelsea  Crystal Palace                     3   \n",
       "4  14/08/2021     Everton     Southampton                     3   \n",
       "\n",
       "   full_time_away_goals full_time_result  half_time_home_goals  \\\n",
       "0                     0                H                     1   \n",
       "1                     1                H                     1   \n",
       "2                     2                A                     1   \n",
       "3                     0                H                     2   \n",
       "4                     1                H                     0   \n",
       "\n",
       "   half_time_away_goals half_time_results    referee  ...  home_shot_target  \\\n",
       "0                     0                 H   M Oliver  ...                 3   \n",
       "1                     0                 H  P Tierney  ...                 8   \n",
       "2                     0                 H    D Coote  ...                 3   \n",
       "3                     0                 H     J Moss  ...                 6   \n",
       "4                     1                 A   A Madley  ...                 6   \n",
       "\n",
       "   away_shot_target  home_fouls  away_fouls  home_corner  away_corner  \\\n",
       "0                 4          12           8            2            5   \n",
       "1                 3          11           9            5            4   \n",
       "2                 8          10           7            7            6   \n",
       "3                 1          15          11            5            2   \n",
       "4                 3          13          15            6            8   \n",
       "\n",
       "   home_yellow  away_yellow  home_red  away_red  \n",
       "0            0            0         0         0  \n",
       "1            1            2         0         0  \n",
       "2            2            1         0         0  \n",
       "3            0            0         0         0  \n",
       "4            2            0         0         0  \n",
       "\n",
       "[5 rows x 22 columns]"
      ]
     },
     "execution_count": 4,
     "metadata": {},
     "output_type": "execute_result"
    }
   ],
   "source": [
    "prem_data.columns = ['date', 'home_team', 'away_team', 'full_time_home_goals', \n",
    " 'full_time_away_goals', 'full_time_result', 'half_time_home_goals', \n",
    " 'half_time_away_goals','half_time_results', 'referee',\n",
    " 'home_shot', 'away_shot', 'home_shot_target', 'away_shot_target',\n",
    " 'home_fouls', 'away_fouls', 'home_corner', 'away_corner', \n",
    " 'home_yellow', 'away_yellow', 'home_red', 'away_red']\n",
    "\n",
    "prem_data.head()"
   ]
  },
  {
   "cell_type": "code",
   "execution_count": 5,
   "id": "27ab52f3",
   "metadata": {},
   "outputs": [
    {
     "data": {
      "text/html": [
       "<div>\n",
       "<style scoped>\n",
       "    .dataframe tbody tr th:only-of-type {\n",
       "        vertical-align: middle;\n",
       "    }\n",
       "\n",
       "    .dataframe tbody tr th {\n",
       "        vertical-align: top;\n",
       "    }\n",
       "\n",
       "    .dataframe thead th {\n",
       "        text-align: right;\n",
       "    }\n",
       "</style>\n",
       "<table border=\"1\" class=\"dataframe\">\n",
       "  <thead>\n",
       "    <tr style=\"text-align: right;\">\n",
       "      <th></th>\n",
       "      <th>date</th>\n",
       "      <th>h_team</th>\n",
       "      <th>a_team</th>\n",
       "      <th>full_time_h_goals</th>\n",
       "      <th>full_time_a_goals</th>\n",
       "      <th>full_time_result</th>\n",
       "      <th>half_time_h_goals</th>\n",
       "      <th>half_time_a_goals</th>\n",
       "      <th>half_time_results</th>\n",
       "      <th>referee</th>\n",
       "      <th>...</th>\n",
       "      <th>h_shot_target</th>\n",
       "      <th>a_shot_target</th>\n",
       "      <th>h_fouls</th>\n",
       "      <th>a_fouls</th>\n",
       "      <th>h_corner</th>\n",
       "      <th>a_corner</th>\n",
       "      <th>h_yellow</th>\n",
       "      <th>a_yellow</th>\n",
       "      <th>h_red</th>\n",
       "      <th>a_red</th>\n",
       "    </tr>\n",
       "  </thead>\n",
       "  <tbody>\n",
       "    <tr>\n",
       "      <th>0</th>\n",
       "      <td>13/08/2021</td>\n",
       "      <td>Brentford</td>\n",
       "      <td>Arsenal</td>\n",
       "      <td>2</td>\n",
       "      <td>0</td>\n",
       "      <td>H</td>\n",
       "      <td>1</td>\n",
       "      <td>0</td>\n",
       "      <td>H</td>\n",
       "      <td>M Oliver</td>\n",
       "      <td>...</td>\n",
       "      <td>3</td>\n",
       "      <td>4</td>\n",
       "      <td>12</td>\n",
       "      <td>8</td>\n",
       "      <td>2</td>\n",
       "      <td>5</td>\n",
       "      <td>0</td>\n",
       "      <td>0</td>\n",
       "      <td>0</td>\n",
       "      <td>0</td>\n",
       "    </tr>\n",
       "  </tbody>\n",
       "</table>\n",
       "<p>1 rows × 22 columns</p>\n",
       "</div>"
      ],
      "text/plain": [
       "         date     h_team   a_team  full_time_h_goals  full_time_a_goals  \\\n",
       "0  13/08/2021  Brentford  Arsenal                  2                  0   \n",
       "\n",
       "  full_time_result  half_time_h_goals  half_time_a_goals half_time_results  \\\n",
       "0                H                  1                  0                 H   \n",
       "\n",
       "    referee  ...  h_shot_target  a_shot_target  h_fouls  a_fouls  h_corner  \\\n",
       "0  M Oliver  ...              3              4       12        8         2   \n",
       "\n",
       "   a_corner  h_yellow  a_yellow  h_red  a_red  \n",
       "0         5         0         0      0      0  \n",
       "\n",
       "[1 rows x 22 columns]"
      ]
     },
     "execution_count": 5,
     "metadata": {},
     "output_type": "execute_result"
    }
   ],
   "source": [
    "# formating column names\n",
    "prem_data.columns = prem_data.columns.str.replace(\"away\", \"a\").str.replace(\"home\", \"h\")\n",
    "prem_data.head(1)"
   ]
  },
  {
   "cell_type": "code",
   "execution_count": 6,
   "id": "25e144ee",
   "metadata": {},
   "outputs": [
    {
     "data": {
      "text/plain": [
       "date                 object\n",
       "h_team               object\n",
       "a_team               object\n",
       "full_time_h_goals     int64\n",
       "full_time_a_goals     int64\n",
       "full_time_result     object\n",
       "half_time_h_goals     int64\n",
       "half_time_a_goals     int64\n",
       "half_time_results    object\n",
       "referee              object\n",
       "h_shot                int64\n",
       "a_shot                int64\n",
       "h_shot_target         int64\n",
       "a_shot_target         int64\n",
       "h_fouls               int64\n",
       "a_fouls               int64\n",
       "h_corner              int64\n",
       "a_corner              int64\n",
       "h_yellow              int64\n",
       "a_yellow              int64\n",
       "h_red                 int64\n",
       "a_red                 int64\n",
       "dtype: object"
      ]
     },
     "execution_count": 6,
     "metadata": {},
     "output_type": "execute_result"
    }
   ],
   "source": [
    "# checking data types of each column\n",
    "prem_data.dtypes"
   ]
  },
  {
   "cell_type": "code",
   "execution_count": 7,
   "id": "970a6f4c",
   "metadata": {},
   "outputs": [
    {
     "data": {
      "text/plain": [
       "date                 0\n",
       "h_team               0\n",
       "a_team               0\n",
       "full_time_h_goals    0\n",
       "full_time_a_goals    0\n",
       "full_time_result     0\n",
       "half_time_h_goals    0\n",
       "half_time_a_goals    0\n",
       "half_time_results    0\n",
       "referee              0\n",
       "h_shot               0\n",
       "a_shot               0\n",
       "h_shot_target        0\n",
       "a_shot_target        0\n",
       "h_fouls              0\n",
       "a_fouls              0\n",
       "h_corner             0\n",
       "a_corner             0\n",
       "h_yellow             0\n",
       "a_yellow             0\n",
       "h_red                0\n",
       "a_red                0\n",
       "dtype: int64"
      ]
     },
     "execution_count": 7,
     "metadata": {},
     "output_type": "execute_result"
    }
   ],
   "source": [
    "# checking for nan values\n",
    "prem_data.isnull().sum()"
   ]
  },
  {
   "cell_type": "markdown",
   "id": "8f2dec76",
   "metadata": {},
   "source": [
    "### Trying to answer the following questions from the data"
   ]
  },
  {
   "cell_type": "markdown",
   "id": "04522260",
   "metadata": {},
   "source": [
    "* Was there a correlation between number of shots and total points?\n",
    "* Was there a correlation between number of corners and points?\n",
    "* Was there a correlation between number of fouls commited and points?\n",
    "* Develop a prediction model"
   ]
  },
  {
   "cell_type": "markdown",
   "id": "9163ea8b",
   "metadata": {},
   "source": [
    "### Filtering some of the data to only remain with those features we need"
   ]
  },
  {
   "cell_type": "code",
   "execution_count": 8,
   "id": "663ba3c8",
   "metadata": {},
   "outputs": [
    {
     "data": {
      "text/html": [
       "<div>\n",
       "<style scoped>\n",
       "    .dataframe tbody tr th:only-of-type {\n",
       "        vertical-align: middle;\n",
       "    }\n",
       "\n",
       "    .dataframe tbody tr th {\n",
       "        vertical-align: top;\n",
       "    }\n",
       "\n",
       "    .dataframe thead th {\n",
       "        text-align: right;\n",
       "    }\n",
       "</style>\n",
       "<table border=\"1\" class=\"dataframe\">\n",
       "  <thead>\n",
       "    <tr style=\"text-align: right;\">\n",
       "      <th></th>\n",
       "      <th>teams</th>\n",
       "    </tr>\n",
       "  </thead>\n",
       "  <tbody>\n",
       "    <tr>\n",
       "      <th>0</th>\n",
       "      <td>Brentford</td>\n",
       "    </tr>\n",
       "    <tr>\n",
       "      <th>1</th>\n",
       "      <td>Man United</td>\n",
       "    </tr>\n",
       "    <tr>\n",
       "      <th>2</th>\n",
       "      <td>Burnley</td>\n",
       "    </tr>\n",
       "    <tr>\n",
       "      <th>3</th>\n",
       "      <td>Chelsea</td>\n",
       "    </tr>\n",
       "    <tr>\n",
       "      <th>4</th>\n",
       "      <td>Everton</td>\n",
       "    </tr>\n",
       "  </tbody>\n",
       "</table>\n",
       "</div>"
      ],
      "text/plain": [
       "        teams\n",
       "0   Brentford\n",
       "1  Man United\n",
       "2     Burnley\n",
       "3     Chelsea\n",
       "4     Everton"
      ]
     },
     "execution_count": 8,
     "metadata": {},
     "output_type": "execute_result"
    }
   ],
   "source": [
    "table = pd.DataFrame(prem_data[\"h_team\"].unique(), columns = [\"teams\"])\n",
    "table.head()"
   ]
  },
  {
   "cell_type": "code",
   "execution_count": 9,
   "id": "46a5c60e",
   "metadata": {},
   "outputs": [
    {
     "data": {
      "text/html": [
       "<div>\n",
       "<style scoped>\n",
       "    .dataframe tbody tr th:only-of-type {\n",
       "        vertical-align: middle;\n",
       "    }\n",
       "\n",
       "    .dataframe tbody tr th {\n",
       "        vertical-align: top;\n",
       "    }\n",
       "\n",
       "    .dataframe thead th {\n",
       "        text-align: right;\n",
       "    }\n",
       "</style>\n",
       "<table border=\"1\" class=\"dataframe\">\n",
       "  <thead>\n",
       "    <tr style=\"text-align: right;\">\n",
       "      <th></th>\n",
       "      <th>teams</th>\n",
       "      <th>fouls</th>\n",
       "      <th>yellow_cards</th>\n",
       "      <th>red_cards</th>\n",
       "      <th>FT_goals_scored</th>\n",
       "      <th>HT_goals_scored</th>\n",
       "      <th>total_shots</th>\n",
       "      <th>shots_on_target</th>\n",
       "      <th>corners</th>\n",
       "      <th>points</th>\n",
       "    </tr>\n",
       "  </thead>\n",
       "  <tbody>\n",
       "    <tr>\n",
       "      <th>0</th>\n",
       "      <td>Brentford</td>\n",
       "      <td>0</td>\n",
       "      <td>0</td>\n",
       "      <td>0</td>\n",
       "      <td>0</td>\n",
       "      <td>0</td>\n",
       "      <td>0</td>\n",
       "      <td>0</td>\n",
       "      <td>0</td>\n",
       "      <td>0</td>\n",
       "    </tr>\n",
       "    <tr>\n",
       "      <th>1</th>\n",
       "      <td>Man United</td>\n",
       "      <td>0</td>\n",
       "      <td>0</td>\n",
       "      <td>0</td>\n",
       "      <td>0</td>\n",
       "      <td>0</td>\n",
       "      <td>0</td>\n",
       "      <td>0</td>\n",
       "      <td>0</td>\n",
       "      <td>0</td>\n",
       "    </tr>\n",
       "    <tr>\n",
       "      <th>2</th>\n",
       "      <td>Burnley</td>\n",
       "      <td>0</td>\n",
       "      <td>0</td>\n",
       "      <td>0</td>\n",
       "      <td>0</td>\n",
       "      <td>0</td>\n",
       "      <td>0</td>\n",
       "      <td>0</td>\n",
       "      <td>0</td>\n",
       "      <td>0</td>\n",
       "    </tr>\n",
       "    <tr>\n",
       "      <th>3</th>\n",
       "      <td>Chelsea</td>\n",
       "      <td>0</td>\n",
       "      <td>0</td>\n",
       "      <td>0</td>\n",
       "      <td>0</td>\n",
       "      <td>0</td>\n",
       "      <td>0</td>\n",
       "      <td>0</td>\n",
       "      <td>0</td>\n",
       "      <td>0</td>\n",
       "    </tr>\n",
       "    <tr>\n",
       "      <th>4</th>\n",
       "      <td>Everton</td>\n",
       "      <td>0</td>\n",
       "      <td>0</td>\n",
       "      <td>0</td>\n",
       "      <td>0</td>\n",
       "      <td>0</td>\n",
       "      <td>0</td>\n",
       "      <td>0</td>\n",
       "      <td>0</td>\n",
       "      <td>0</td>\n",
       "    </tr>\n",
       "  </tbody>\n",
       "</table>\n",
       "</div>"
      ],
      "text/plain": [
       "        teams  fouls  yellow_cards  red_cards  FT_goals_scored  \\\n",
       "0   Brentford      0             0          0                0   \n",
       "1  Man United      0             0          0                0   \n",
       "2     Burnley      0             0          0                0   \n",
       "3     Chelsea      0             0          0                0   \n",
       "4     Everton      0             0          0                0   \n",
       "\n",
       "   HT_goals_scored  total_shots  shots_on_target  corners  points  \n",
       "0                0            0                0        0       0  \n",
       "1                0            0                0        0       0  \n",
       "2                0            0                0        0       0  \n",
       "3                0            0                0        0       0  \n",
       "4                0            0                0        0       0  "
      ]
     },
     "execution_count": 9,
     "metadata": {},
     "output_type": "execute_result"
    }
   ],
   "source": [
    "table[[\"fouls\", \"yellow_cards\", \"red_cards\", \"FT_goals_scored\", \"HT_goals_scored\", \"total_shots\", \"shots_on_target\", \\\n",
    "       \"corners\", \"points\"]] = 0\n",
    "table.head()"
   ]
  },
  {
   "cell_type": "code",
   "execution_count": 10,
   "id": "1c065eb2",
   "metadata": {},
   "outputs": [
    {
     "data": {
      "text/html": [
       "<div>\n",
       "<style scoped>\n",
       "    .dataframe tbody tr th:only-of-type {\n",
       "        vertical-align: middle;\n",
       "    }\n",
       "\n",
       "    .dataframe tbody tr th {\n",
       "        vertical-align: top;\n",
       "    }\n",
       "\n",
       "    .dataframe thead th {\n",
       "        text-align: right;\n",
       "    }\n",
       "</style>\n",
       "<table border=\"1\" class=\"dataframe\">\n",
       "  <thead>\n",
       "    <tr style=\"text-align: right;\">\n",
       "      <th></th>\n",
       "      <th>fouls</th>\n",
       "      <th>yellow_cards</th>\n",
       "      <th>red_cards</th>\n",
       "      <th>FT_goals_scored</th>\n",
       "      <th>HT_goals_scored</th>\n",
       "      <th>total_shots</th>\n",
       "      <th>shots_on_target</th>\n",
       "      <th>corners</th>\n",
       "      <th>points</th>\n",
       "    </tr>\n",
       "    <tr>\n",
       "      <th>teams</th>\n",
       "      <th></th>\n",
       "      <th></th>\n",
       "      <th></th>\n",
       "      <th></th>\n",
       "      <th></th>\n",
       "      <th></th>\n",
       "      <th></th>\n",
       "      <th></th>\n",
       "      <th></th>\n",
       "    </tr>\n",
       "  </thead>\n",
       "  <tbody>\n",
       "    <tr>\n",
       "      <th>Brentford</th>\n",
       "      <td>0</td>\n",
       "      <td>0</td>\n",
       "      <td>0</td>\n",
       "      <td>0</td>\n",
       "      <td>0</td>\n",
       "      <td>0</td>\n",
       "      <td>0</td>\n",
       "      <td>0</td>\n",
       "      <td>0</td>\n",
       "    </tr>\n",
       "    <tr>\n",
       "      <th>Man United</th>\n",
       "      <td>0</td>\n",
       "      <td>0</td>\n",
       "      <td>0</td>\n",
       "      <td>0</td>\n",
       "      <td>0</td>\n",
       "      <td>0</td>\n",
       "      <td>0</td>\n",
       "      <td>0</td>\n",
       "      <td>0</td>\n",
       "    </tr>\n",
       "    <tr>\n",
       "      <th>Burnley</th>\n",
       "      <td>0</td>\n",
       "      <td>0</td>\n",
       "      <td>0</td>\n",
       "      <td>0</td>\n",
       "      <td>0</td>\n",
       "      <td>0</td>\n",
       "      <td>0</td>\n",
       "      <td>0</td>\n",
       "      <td>0</td>\n",
       "    </tr>\n",
       "    <tr>\n",
       "      <th>Chelsea</th>\n",
       "      <td>0</td>\n",
       "      <td>0</td>\n",
       "      <td>0</td>\n",
       "      <td>0</td>\n",
       "      <td>0</td>\n",
       "      <td>0</td>\n",
       "      <td>0</td>\n",
       "      <td>0</td>\n",
       "      <td>0</td>\n",
       "    </tr>\n",
       "    <tr>\n",
       "      <th>Everton</th>\n",
       "      <td>0</td>\n",
       "      <td>0</td>\n",
       "      <td>0</td>\n",
       "      <td>0</td>\n",
       "      <td>0</td>\n",
       "      <td>0</td>\n",
       "      <td>0</td>\n",
       "      <td>0</td>\n",
       "      <td>0</td>\n",
       "    </tr>\n",
       "  </tbody>\n",
       "</table>\n",
       "</div>"
      ],
      "text/plain": [
       "            fouls  yellow_cards  red_cards  FT_goals_scored  HT_goals_scored  \\\n",
       "teams                                                                          \n",
       "Brentford       0             0          0                0                0   \n",
       "Man United      0             0          0                0                0   \n",
       "Burnley         0             0          0                0                0   \n",
       "Chelsea         0             0          0                0                0   \n",
       "Everton         0             0          0                0                0   \n",
       "\n",
       "            total_shots  shots_on_target  corners  points  \n",
       "teams                                                      \n",
       "Brentford             0                0        0       0  \n",
       "Man United            0                0        0       0  \n",
       "Burnley               0                0        0       0  \n",
       "Chelsea               0                0        0       0  \n",
       "Everton               0                0        0       0  "
      ]
     },
     "execution_count": 10,
     "metadata": {},
     "output_type": "execute_result"
    }
   ],
   "source": [
    "table.set_index(\"teams\", inplace = True)\n",
    "table.head()"
   ]
  },
  {
   "cell_type": "code",
   "execution_count": 11,
   "id": "0494f403",
   "metadata": {},
   "outputs": [],
   "source": [
    "#  filtering\n",
    "for i in prem_data.index:\n",
    "    home = prem_data.loc[i, \"h_team\"]\n",
    "    away = prem_data.loc[i, \"a_team\"]\n",
    "#     adding number of fouls\n",
    "    a_fouls = prem_data.loc[i, \"a_fouls\"]\n",
    "    h_fouls = prem_data.loc[i, \"h_fouls\"]\n",
    "    table.loc[home, \"fouls\"] += h_fouls\n",
    "    table.loc[away, \"fouls\"] += a_fouls\n",
    "#     adding number of yellow cards\n",
    "    a_ycards = prem_data.loc[i, \"a_yellow\"]\n",
    "    h_ycards = prem_data.loc[i, \"h_yellow\"]\n",
    "    table.loc[home, \"yellow_cards\"] += h_ycards\n",
    "    table.loc[away, \"yellow_cards\"] += a_ycards\n",
    "#     adding number of red cards\n",
    "    a_rcards = prem_data.loc[i, \"a_red\"]\n",
    "    h_rcards = prem_data.loc[i, \"h_red\"]\n",
    "    table.loc[home, \"red_cards\"] += h_rcards\n",
    "    table.loc[away, \"red_cards\"] += a_rcards\n",
    "# adding fulltime goals scored by each team\n",
    "    fta_goals = prem_data.loc[i, \"full_time_a_goals\"]\n",
    "    fth_goals = prem_data.loc[i, \"full_time_h_goals\"]\n",
    "    table.loc[away, \"FT_goals_scored\"] += fta_goals\n",
    "    table.loc[home, \"FT_goals_scored\"] += fth_goals\n",
    "#     adding halftime goals scored by each team\n",
    "    hta_goals = prem_data.loc[i, \"half_time_a_goals\"]\n",
    "    hth_goals = prem_data.loc[i, \"half_time_h_goals\"]\n",
    "    table.loc[home, \"HT_goals_scored\"] += hth_goals\n",
    "    table.loc[away, \"HT_goals_scored\"] += hta_goals\n",
    "#     adding points\n",
    "    if prem_data.loc[i, \"full_time_result\"] == \"H\":\n",
    "        table.loc[home, \"points\"] += 3\n",
    "    elif prem_data.loc[i, \"full_time_result\"] == \"A\":\n",
    "        table.loc[away, \"points\"] += 3\n",
    "    elif prem_data.loc[i, \"full_time_result\"] == \"D\":\n",
    "        table.loc[away, \"points\"] += 1\n",
    "        table.loc[home, \"points\"] += 1\n",
    "#     adding shots\n",
    "    a_shots = prem_data.loc[i, \"a_shot\"]\n",
    "    h_shots = prem_data.loc[i, \"h_shot\"]\n",
    "    table.loc[home, \"total_shots\"] += h_shots\n",
    "    table.loc[away, \"total_shots\"] += a_shots\n",
    "    a_shots_on_target = prem_data.loc[i, \"a_shot_target\"]\n",
    "    h_shots_on_target = prem_data.loc[i, \"h_shot_target\"]\n",
    "    table.loc[home, \"shots_on_target\"] += h_shots_on_target\n",
    "    table.loc[away, \"shots_on_target\"] += a_shots_on_target\n",
    "#     adding corners\n",
    "    h_corners = prem_data.loc[i, \"h_corner\"]\n",
    "    a_corners = prem_data.loc[i, \"a_corner\"]\n",
    "    table.loc[home, \"corners\"] += h_corners\n",
    "    table.loc[away, \"corners\"] += a_corners\n",
    "table.reset_index(inplace = True)"
   ]
  },
  {
   "cell_type": "markdown",
   "id": "2f24bb3d",
   "metadata": {},
   "source": [
    "Here is the filtered data"
   ]
  },
  {
   "cell_type": "code",
   "execution_count": 12,
   "id": "a896cc3c",
   "metadata": {},
   "outputs": [
    {
     "data": {
      "text/html": [
       "<div>\n",
       "<style scoped>\n",
       "    .dataframe tbody tr th:only-of-type {\n",
       "        vertical-align: middle;\n",
       "    }\n",
       "\n",
       "    .dataframe tbody tr th {\n",
       "        vertical-align: top;\n",
       "    }\n",
       "\n",
       "    .dataframe thead th {\n",
       "        text-align: right;\n",
       "    }\n",
       "</style>\n",
       "<table border=\"1\" class=\"dataframe\">\n",
       "  <thead>\n",
       "    <tr style=\"text-align: right;\">\n",
       "      <th></th>\n",
       "      <th>teams</th>\n",
       "      <th>fouls</th>\n",
       "      <th>yellow_cards</th>\n",
       "      <th>red_cards</th>\n",
       "      <th>FT_goals_scored</th>\n",
       "      <th>HT_goals_scored</th>\n",
       "      <th>total_shots</th>\n",
       "      <th>shots_on_target</th>\n",
       "      <th>corners</th>\n",
       "      <th>points</th>\n",
       "    </tr>\n",
       "  </thead>\n",
       "  <tbody>\n",
       "    <tr>\n",
       "      <th>0</th>\n",
       "      <td>Brentford</td>\n",
       "      <td>371</td>\n",
       "      <td>61</td>\n",
       "      <td>3</td>\n",
       "      <td>48</td>\n",
       "      <td>16</td>\n",
       "      <td>442</td>\n",
       "      <td>154</td>\n",
       "      <td>159</td>\n",
       "      <td>46</td>\n",
       "    </tr>\n",
       "    <tr>\n",
       "      <th>1</th>\n",
       "      <td>Man United</td>\n",
       "      <td>395</td>\n",
       "      <td>75</td>\n",
       "      <td>2</td>\n",
       "      <td>57</td>\n",
       "      <td>22</td>\n",
       "      <td>508</td>\n",
       "      <td>187</td>\n",
       "      <td>199</td>\n",
       "      <td>58</td>\n",
       "    </tr>\n",
       "    <tr>\n",
       "      <th>2</th>\n",
       "      <td>Burnley</td>\n",
       "      <td>394</td>\n",
       "      <td>68</td>\n",
       "      <td>2</td>\n",
       "      <td>34</td>\n",
       "      <td>17</td>\n",
       "      <td>407</td>\n",
       "      <td>125</td>\n",
       "      <td>184</td>\n",
       "      <td>35</td>\n",
       "    </tr>\n",
       "    <tr>\n",
       "      <th>3</th>\n",
       "      <td>Chelsea</td>\n",
       "      <td>409</td>\n",
       "      <td>63</td>\n",
       "      <td>1</td>\n",
       "      <td>76</td>\n",
       "      <td>34</td>\n",
       "      <td>592</td>\n",
       "      <td>211</td>\n",
       "      <td>242</td>\n",
       "      <td>74</td>\n",
       "    </tr>\n",
       "    <tr>\n",
       "      <th>4</th>\n",
       "      <td>Everton</td>\n",
       "      <td>368</td>\n",
       "      <td>76</td>\n",
       "      <td>6</td>\n",
       "      <td>43</td>\n",
       "      <td>16</td>\n",
       "      <td>438</td>\n",
       "      <td>138</td>\n",
       "      <td>161</td>\n",
       "      <td>39</td>\n",
       "    </tr>\n",
       "    <tr>\n",
       "      <th>5</th>\n",
       "      <td>Leicester</td>\n",
       "      <td>356</td>\n",
       "      <td>54</td>\n",
       "      <td>1</td>\n",
       "      <td>62</td>\n",
       "      <td>27</td>\n",
       "      <td>435</td>\n",
       "      <td>169</td>\n",
       "      <td>185</td>\n",
       "      <td>52</td>\n",
       "    </tr>\n",
       "    <tr>\n",
       "      <th>6</th>\n",
       "      <td>Watford</td>\n",
       "      <td>440</td>\n",
       "      <td>57</td>\n",
       "      <td>3</td>\n",
       "      <td>34</td>\n",
       "      <td>17</td>\n",
       "      <td>396</td>\n",
       "      <td>127</td>\n",
       "      <td>162</td>\n",
       "      <td>23</td>\n",
       "    </tr>\n",
       "    <tr>\n",
       "      <th>7</th>\n",
       "      <td>Norwich</td>\n",
       "      <td>356</td>\n",
       "      <td>55</td>\n",
       "      <td>2</td>\n",
       "      <td>23</td>\n",
       "      <td>11</td>\n",
       "      <td>374</td>\n",
       "      <td>109</td>\n",
       "      <td>165</td>\n",
       "      <td>22</td>\n",
       "    </tr>\n",
       "    <tr>\n",
       "      <th>8</th>\n",
       "      <td>Newcastle</td>\n",
       "      <td>391</td>\n",
       "      <td>79</td>\n",
       "      <td>1</td>\n",
       "      <td>44</td>\n",
       "      <td>25</td>\n",
       "      <td>448</td>\n",
       "      <td>148</td>\n",
       "      <td>160</td>\n",
       "      <td>49</td>\n",
       "    </tr>\n",
       "    <tr>\n",
       "      <th>9</th>\n",
       "      <td>Tottenham</td>\n",
       "      <td>386</td>\n",
       "      <td>67</td>\n",
       "      <td>1</td>\n",
       "      <td>69</td>\n",
       "      <td>33</td>\n",
       "      <td>491</td>\n",
       "      <td>198</td>\n",
       "      <td>195</td>\n",
       "      <td>71</td>\n",
       "    </tr>\n",
       "    <tr>\n",
       "      <th>10</th>\n",
       "      <td>Liverpool</td>\n",
       "      <td>363</td>\n",
       "      <td>50</td>\n",
       "      <td>1</td>\n",
       "      <td>94</td>\n",
       "      <td>44</td>\n",
       "      <td>730</td>\n",
       "      <td>256</td>\n",
       "      <td>285</td>\n",
       "      <td>92</td>\n",
       "    </tr>\n",
       "    <tr>\n",
       "      <th>11</th>\n",
       "      <td>Aston Villa</td>\n",
       "      <td>401</td>\n",
       "      <td>77</td>\n",
       "      <td>2</td>\n",
       "      <td>52</td>\n",
       "      <td>21</td>\n",
       "      <td>454</td>\n",
       "      <td>162</td>\n",
       "      <td>196</td>\n",
       "      <td>45</td>\n",
       "    </tr>\n",
       "    <tr>\n",
       "      <th>12</th>\n",
       "      <td>Crystal Palace</td>\n",
       "      <td>415</td>\n",
       "      <td>67</td>\n",
       "      <td>1</td>\n",
       "      <td>50</td>\n",
       "      <td>21</td>\n",
       "      <td>412</td>\n",
       "      <td>147</td>\n",
       "      <td>176</td>\n",
       "      <td>48</td>\n",
       "    </tr>\n",
       "    <tr>\n",
       "      <th>13</th>\n",
       "      <td>Leeds</td>\n",
       "      <td>469</td>\n",
       "      <td>100</td>\n",
       "      <td>3</td>\n",
       "      <td>42</td>\n",
       "      <td>16</td>\n",
       "      <td>485</td>\n",
       "      <td>154</td>\n",
       "      <td>171</td>\n",
       "      <td>38</td>\n",
       "    </tr>\n",
       "    <tr>\n",
       "      <th>14</th>\n",
       "      <td>Man City</td>\n",
       "      <td>320</td>\n",
       "      <td>42</td>\n",
       "      <td>1</td>\n",
       "      <td>99</td>\n",
       "      <td>45</td>\n",
       "      <td>715</td>\n",
       "      <td>254</td>\n",
       "      <td>317</td>\n",
       "      <td>93</td>\n",
       "    </tr>\n",
       "    <tr>\n",
       "      <th>15</th>\n",
       "      <td>Brighton</td>\n",
       "      <td>393</td>\n",
       "      <td>71</td>\n",
       "      <td>2</td>\n",
       "      <td>42</td>\n",
       "      <td>16</td>\n",
       "      <td>490</td>\n",
       "      <td>152</td>\n",
       "      <td>202</td>\n",
       "      <td>51</td>\n",
       "    </tr>\n",
       "    <tr>\n",
       "      <th>16</th>\n",
       "      <td>Southampton</td>\n",
       "      <td>402</td>\n",
       "      <td>63</td>\n",
       "      <td>2</td>\n",
       "      <td>43</td>\n",
       "      <td>24</td>\n",
       "      <td>482</td>\n",
       "      <td>170</td>\n",
       "      <td>234</td>\n",
       "      <td>40</td>\n",
       "    </tr>\n",
       "    <tr>\n",
       "      <th>17</th>\n",
       "      <td>Wolves</td>\n",
       "      <td>365</td>\n",
       "      <td>59</td>\n",
       "      <td>2</td>\n",
       "      <td>38</td>\n",
       "      <td>18</td>\n",
       "      <td>402</td>\n",
       "      <td>136</td>\n",
       "      <td>168</td>\n",
       "      <td>51</td>\n",
       "    </tr>\n",
       "    <tr>\n",
       "      <th>18</th>\n",
       "      <td>Arsenal</td>\n",
       "      <td>363</td>\n",
       "      <td>60</td>\n",
       "      <td>4</td>\n",
       "      <td>61</td>\n",
       "      <td>33</td>\n",
       "      <td>588</td>\n",
       "      <td>197</td>\n",
       "      <td>209</td>\n",
       "      <td>69</td>\n",
       "    </tr>\n",
       "    <tr>\n",
       "      <th>19</th>\n",
       "      <td>West Ham</td>\n",
       "      <td>324</td>\n",
       "      <td>47</td>\n",
       "      <td>3</td>\n",
       "      <td>60</td>\n",
       "      <td>27</td>\n",
       "      <td>433</td>\n",
       "      <td>158</td>\n",
       "      <td>191</td>\n",
       "      <td>56</td>\n",
       "    </tr>\n",
       "  </tbody>\n",
       "</table>\n",
       "</div>"
      ],
      "text/plain": [
       "             teams  fouls  yellow_cards  red_cards  FT_goals_scored  \\\n",
       "0        Brentford    371            61          3               48   \n",
       "1       Man United    395            75          2               57   \n",
       "2          Burnley    394            68          2               34   \n",
       "3          Chelsea    409            63          1               76   \n",
       "4          Everton    368            76          6               43   \n",
       "5        Leicester    356            54          1               62   \n",
       "6          Watford    440            57          3               34   \n",
       "7          Norwich    356            55          2               23   \n",
       "8        Newcastle    391            79          1               44   \n",
       "9        Tottenham    386            67          1               69   \n",
       "10       Liverpool    363            50          1               94   \n",
       "11     Aston Villa    401            77          2               52   \n",
       "12  Crystal Palace    415            67          1               50   \n",
       "13           Leeds    469           100          3               42   \n",
       "14        Man City    320            42          1               99   \n",
       "15        Brighton    393            71          2               42   \n",
       "16     Southampton    402            63          2               43   \n",
       "17          Wolves    365            59          2               38   \n",
       "18         Arsenal    363            60          4               61   \n",
       "19        West Ham    324            47          3               60   \n",
       "\n",
       "    HT_goals_scored  total_shots  shots_on_target  corners  points  \n",
       "0                16          442              154      159      46  \n",
       "1                22          508              187      199      58  \n",
       "2                17          407              125      184      35  \n",
       "3                34          592              211      242      74  \n",
       "4                16          438              138      161      39  \n",
       "5                27          435              169      185      52  \n",
       "6                17          396              127      162      23  \n",
       "7                11          374              109      165      22  \n",
       "8                25          448              148      160      49  \n",
       "9                33          491              198      195      71  \n",
       "10               44          730              256      285      92  \n",
       "11               21          454              162      196      45  \n",
       "12               21          412              147      176      48  \n",
       "13               16          485              154      171      38  \n",
       "14               45          715              254      317      93  \n",
       "15               16          490              152      202      51  \n",
       "16               24          482              170      234      40  \n",
       "17               18          402              136      168      51  \n",
       "18               33          588              197      209      69  \n",
       "19               27          433              158      191      56  "
      ]
     },
     "execution_count": 12,
     "metadata": {},
     "output_type": "execute_result"
    }
   ],
   "source": [
    "table"
   ]
  },
  {
   "cell_type": "markdown",
   "id": "9bce024a",
   "metadata": {},
   "source": [
    "### Descriptive statistical analysis"
   ]
  },
  {
   "cell_type": "code",
   "execution_count": 13,
   "id": "a3ee876a",
   "metadata": {},
   "outputs": [
    {
     "data": {
      "text/html": [
       "<div>\n",
       "<style scoped>\n",
       "    .dataframe tbody tr th:only-of-type {\n",
       "        vertical-align: middle;\n",
       "    }\n",
       "\n",
       "    .dataframe tbody tr th {\n",
       "        vertical-align: top;\n",
       "    }\n",
       "\n",
       "    .dataframe thead th {\n",
       "        text-align: right;\n",
       "    }\n",
       "</style>\n",
       "<table border=\"1\" class=\"dataframe\">\n",
       "  <thead>\n",
       "    <tr style=\"text-align: right;\">\n",
       "      <th></th>\n",
       "      <th>fouls</th>\n",
       "      <th>yellow_cards</th>\n",
       "      <th>red_cards</th>\n",
       "      <th>FT_goals_scored</th>\n",
       "      <th>HT_goals_scored</th>\n",
       "      <th>total_shots</th>\n",
       "      <th>shots_on_target</th>\n",
       "      <th>corners</th>\n",
       "      <th>points</th>\n",
       "    </tr>\n",
       "  </thead>\n",
       "  <tbody>\n",
       "    <tr>\n",
       "      <th>count</th>\n",
       "      <td>20.000000</td>\n",
       "      <td>20.000000</td>\n",
       "      <td>20.000000</td>\n",
       "      <td>20.000000</td>\n",
       "      <td>20.000000</td>\n",
       "      <td>20.000000</td>\n",
       "      <td>20.000000</td>\n",
       "      <td>20.000000</td>\n",
       "      <td>20.00000</td>\n",
       "    </tr>\n",
       "    <tr>\n",
       "      <th>mean</th>\n",
       "      <td>384.050000</td>\n",
       "      <td>64.550000</td>\n",
       "      <td>2.150000</td>\n",
       "      <td>53.550000</td>\n",
       "      <td>24.150000</td>\n",
       "      <td>486.100000</td>\n",
       "      <td>167.600000</td>\n",
       "      <td>198.050000</td>\n",
       "      <td>52.60000</td>\n",
       "    </tr>\n",
       "    <tr>\n",
       "      <th>std</th>\n",
       "      <td>35.427428</td>\n",
       "      <td>13.144841</td>\n",
       "      <td>1.268028</td>\n",
       "      <td>19.454332</td>\n",
       "      <td>9.466145</td>\n",
       "      <td>98.860295</td>\n",
       "      <td>39.505363</td>\n",
       "      <td>42.524884</td>\n",
       "      <td>19.34561</td>\n",
       "    </tr>\n",
       "    <tr>\n",
       "      <th>min</th>\n",
       "      <td>320.000000</td>\n",
       "      <td>42.000000</td>\n",
       "      <td>1.000000</td>\n",
       "      <td>23.000000</td>\n",
       "      <td>11.000000</td>\n",
       "      <td>374.000000</td>\n",
       "      <td>109.000000</td>\n",
       "      <td>159.000000</td>\n",
       "      <td>22.00000</td>\n",
       "    </tr>\n",
       "    <tr>\n",
       "      <th>25%</th>\n",
       "      <td>363.000000</td>\n",
       "      <td>56.500000</td>\n",
       "      <td>1.000000</td>\n",
       "      <td>42.000000</td>\n",
       "      <td>16.750000</td>\n",
       "      <td>427.750000</td>\n",
       "      <td>144.750000</td>\n",
       "      <td>167.250000</td>\n",
       "      <td>39.75000</td>\n",
       "    </tr>\n",
       "    <tr>\n",
       "      <th>50%</th>\n",
       "      <td>388.500000</td>\n",
       "      <td>63.000000</td>\n",
       "      <td>2.000000</td>\n",
       "      <td>49.000000</td>\n",
       "      <td>21.500000</td>\n",
       "      <td>451.000000</td>\n",
       "      <td>156.000000</td>\n",
       "      <td>188.000000</td>\n",
       "      <td>50.00000</td>\n",
       "    </tr>\n",
       "    <tr>\n",
       "      <th>75%</th>\n",
       "      <td>401.250000</td>\n",
       "      <td>72.000000</td>\n",
       "      <td>3.000000</td>\n",
       "      <td>61.250000</td>\n",
       "      <td>28.500000</td>\n",
       "      <td>495.250000</td>\n",
       "      <td>189.500000</td>\n",
       "      <td>203.750000</td>\n",
       "      <td>60.75000</td>\n",
       "    </tr>\n",
       "    <tr>\n",
       "      <th>max</th>\n",
       "      <td>469.000000</td>\n",
       "      <td>100.000000</td>\n",
       "      <td>6.000000</td>\n",
       "      <td>99.000000</td>\n",
       "      <td>45.000000</td>\n",
       "      <td>730.000000</td>\n",
       "      <td>256.000000</td>\n",
       "      <td>317.000000</td>\n",
       "      <td>93.00000</td>\n",
       "    </tr>\n",
       "  </tbody>\n",
       "</table>\n",
       "</div>"
      ],
      "text/plain": [
       "            fouls  yellow_cards  red_cards  FT_goals_scored  HT_goals_scored  \\\n",
       "count   20.000000     20.000000  20.000000        20.000000        20.000000   \n",
       "mean   384.050000     64.550000   2.150000        53.550000        24.150000   \n",
       "std     35.427428     13.144841   1.268028        19.454332         9.466145   \n",
       "min    320.000000     42.000000   1.000000        23.000000        11.000000   \n",
       "25%    363.000000     56.500000   1.000000        42.000000        16.750000   \n",
       "50%    388.500000     63.000000   2.000000        49.000000        21.500000   \n",
       "75%    401.250000     72.000000   3.000000        61.250000        28.500000   \n",
       "max    469.000000    100.000000   6.000000        99.000000        45.000000   \n",
       "\n",
       "       total_shots  shots_on_target     corners    points  \n",
       "count    20.000000        20.000000   20.000000  20.00000  \n",
       "mean    486.100000       167.600000  198.050000  52.60000  \n",
       "std      98.860295        39.505363   42.524884  19.34561  \n",
       "min     374.000000       109.000000  159.000000  22.00000  \n",
       "25%     427.750000       144.750000  167.250000  39.75000  \n",
       "50%     451.000000       156.000000  188.000000  50.00000  \n",
       "75%     495.250000       189.500000  203.750000  60.75000  \n",
       "max     730.000000       256.000000  317.000000  93.00000  "
      ]
     },
     "execution_count": 13,
     "metadata": {},
     "output_type": "execute_result"
    }
   ],
   "source": [
    "# obtaining general statistics\n",
    "table.describe()"
   ]
  },
  {
   "cell_type": "code",
   "execution_count": 14,
   "id": "c8d6458d",
   "metadata": {},
   "outputs": [
    {
     "data": {
      "text/html": [
       "<div>\n",
       "<style scoped>\n",
       "    .dataframe tbody tr th:only-of-type {\n",
       "        vertical-align: middle;\n",
       "    }\n",
       "\n",
       "    .dataframe tbody tr th {\n",
       "        vertical-align: top;\n",
       "    }\n",
       "\n",
       "    .dataframe thead th {\n",
       "        text-align: right;\n",
       "    }\n",
       "</style>\n",
       "<table border=\"1\" class=\"dataframe\">\n",
       "  <thead>\n",
       "    <tr style=\"text-align: right;\">\n",
       "      <th></th>\n",
       "      <th>fouls</th>\n",
       "      <th>yellow_cards</th>\n",
       "      <th>red_cards</th>\n",
       "      <th>FT_goals_scored</th>\n",
       "      <th>HT_goals_scored</th>\n",
       "      <th>total_shots</th>\n",
       "      <th>shots_on_target</th>\n",
       "      <th>corners</th>\n",
       "      <th>points</th>\n",
       "    </tr>\n",
       "  </thead>\n",
       "  <tbody>\n",
       "    <tr>\n",
       "      <th>fouls</th>\n",
       "      <td>1.000000</td>\n",
       "      <td>0.740664</td>\n",
       "      <td>0.011540</td>\n",
       "      <td>-0.403627</td>\n",
       "      <td>-0.409951</td>\n",
       "      <td>-0.261404</td>\n",
       "      <td>-0.302333</td>\n",
       "      <td>-0.347293</td>\n",
       "      <td>-0.440457</td>\n",
       "    </tr>\n",
       "    <tr>\n",
       "      <th>yellow_cards</th>\n",
       "      <td>0.740664</td>\n",
       "      <td>1.000000</td>\n",
       "      <td>0.231613</td>\n",
       "      <td>-0.429544</td>\n",
       "      <td>-0.485008</td>\n",
       "      <td>-0.292221</td>\n",
       "      <td>-0.343646</td>\n",
       "      <td>-0.470738</td>\n",
       "      <td>-0.388815</td>\n",
       "    </tr>\n",
       "    <tr>\n",
       "      <th>red_cards</th>\n",
       "      <td>0.011540</td>\n",
       "      <td>0.231613</td>\n",
       "      <td>1.000000</td>\n",
       "      <td>-0.376890</td>\n",
       "      <td>-0.418524</td>\n",
       "      <td>-0.250777</td>\n",
       "      <td>-0.364368</td>\n",
       "      <td>-0.399353</td>\n",
       "      <td>-0.385767</td>\n",
       "    </tr>\n",
       "    <tr>\n",
       "      <th>FT_goals_scored</th>\n",
       "      <td>-0.403627</td>\n",
       "      <td>-0.429544</td>\n",
       "      <td>-0.376890</td>\n",
       "      <td>1.000000</td>\n",
       "      <td>0.947515</td>\n",
       "      <td>0.882900</td>\n",
       "      <td>0.962810</td>\n",
       "      <td>0.839036</td>\n",
       "      <td>0.950584</td>\n",
       "    </tr>\n",
       "    <tr>\n",
       "      <th>HT_goals_scored</th>\n",
       "      <td>-0.409951</td>\n",
       "      <td>-0.485008</td>\n",
       "      <td>-0.418524</td>\n",
       "      <td>0.947515</td>\n",
       "      <td>1.000000</td>\n",
       "      <td>0.871209</td>\n",
       "      <td>0.937778</td>\n",
       "      <td>0.846433</td>\n",
       "      <td>0.926356</td>\n",
       "    </tr>\n",
       "    <tr>\n",
       "      <th>total_shots</th>\n",
       "      <td>-0.261404</td>\n",
       "      <td>-0.292221</td>\n",
       "      <td>-0.250777</td>\n",
       "      <td>0.882900</td>\n",
       "      <td>0.871209</td>\n",
       "      <td>1.000000</td>\n",
       "      <td>0.951648</td>\n",
       "      <td>0.906336</td>\n",
       "      <td>0.886291</td>\n",
       "    </tr>\n",
       "    <tr>\n",
       "      <th>shots_on_target</th>\n",
       "      <td>-0.302333</td>\n",
       "      <td>-0.343646</td>\n",
       "      <td>-0.364368</td>\n",
       "      <td>0.962810</td>\n",
       "      <td>0.937778</td>\n",
       "      <td>0.951648</td>\n",
       "      <td>1.000000</td>\n",
       "      <td>0.888128</td>\n",
       "      <td>0.943733</td>\n",
       "    </tr>\n",
       "    <tr>\n",
       "      <th>corners</th>\n",
       "      <td>-0.347293</td>\n",
       "      <td>-0.470738</td>\n",
       "      <td>-0.399353</td>\n",
       "      <td>0.839036</td>\n",
       "      <td>0.846433</td>\n",
       "      <td>0.906336</td>\n",
       "      <td>0.888128</td>\n",
       "      <td>1.000000</td>\n",
       "      <td>0.806706</td>\n",
       "    </tr>\n",
       "    <tr>\n",
       "      <th>points</th>\n",
       "      <td>-0.440457</td>\n",
       "      <td>-0.388815</td>\n",
       "      <td>-0.385767</td>\n",
       "      <td>0.950584</td>\n",
       "      <td>0.926356</td>\n",
       "      <td>0.886291</td>\n",
       "      <td>0.943733</td>\n",
       "      <td>0.806706</td>\n",
       "      <td>1.000000</td>\n",
       "    </tr>\n",
       "  </tbody>\n",
       "</table>\n",
       "</div>"
      ],
      "text/plain": [
       "                    fouls  yellow_cards  red_cards  FT_goals_scored  \\\n",
       "fouls            1.000000      0.740664   0.011540        -0.403627   \n",
       "yellow_cards     0.740664      1.000000   0.231613        -0.429544   \n",
       "red_cards        0.011540      0.231613   1.000000        -0.376890   \n",
       "FT_goals_scored -0.403627     -0.429544  -0.376890         1.000000   \n",
       "HT_goals_scored -0.409951     -0.485008  -0.418524         0.947515   \n",
       "total_shots     -0.261404     -0.292221  -0.250777         0.882900   \n",
       "shots_on_target -0.302333     -0.343646  -0.364368         0.962810   \n",
       "corners         -0.347293     -0.470738  -0.399353         0.839036   \n",
       "points          -0.440457     -0.388815  -0.385767         0.950584   \n",
       "\n",
       "                 HT_goals_scored  total_shots  shots_on_target   corners  \\\n",
       "fouls                  -0.409951    -0.261404        -0.302333 -0.347293   \n",
       "yellow_cards           -0.485008    -0.292221        -0.343646 -0.470738   \n",
       "red_cards              -0.418524    -0.250777        -0.364368 -0.399353   \n",
       "FT_goals_scored         0.947515     0.882900         0.962810  0.839036   \n",
       "HT_goals_scored         1.000000     0.871209         0.937778  0.846433   \n",
       "total_shots             0.871209     1.000000         0.951648  0.906336   \n",
       "shots_on_target         0.937778     0.951648         1.000000  0.888128   \n",
       "corners                 0.846433     0.906336         0.888128  1.000000   \n",
       "points                  0.926356     0.886291         0.943733  0.806706   \n",
       "\n",
       "                   points  \n",
       "fouls           -0.440457  \n",
       "yellow_cards    -0.388815  \n",
       "red_cards       -0.385767  \n",
       "FT_goals_scored  0.950584  \n",
       "HT_goals_scored  0.926356  \n",
       "total_shots      0.886291  \n",
       "shots_on_target  0.943733  \n",
       "corners          0.806706  \n",
       "points           1.000000  "
      ]
     },
     "execution_count": 14,
     "metadata": {},
     "output_type": "execute_result"
    }
   ],
   "source": [
    "# calculating correlation betweeen the different variables\n",
    "table.corr()"
   ]
  },
  {
   "cell_type": "code",
   "execution_count": 15,
   "id": "aa07a7fa",
   "metadata": {},
   "outputs": [
    {
     "data": {
      "text/html": [
       "<div>\n",
       "<style scoped>\n",
       "    .dataframe tbody tr th:only-of-type {\n",
       "        vertical-align: middle;\n",
       "    }\n",
       "\n",
       "    .dataframe tbody tr th {\n",
       "        vertical-align: top;\n",
       "    }\n",
       "\n",
       "    .dataframe thead th {\n",
       "        text-align: right;\n",
       "    }\n",
       "</style>\n",
       "<table border=\"1\" class=\"dataframe\">\n",
       "  <thead>\n",
       "    <tr style=\"text-align: right;\">\n",
       "      <th></th>\n",
       "      <th>fouls</th>\n",
       "      <th>total_shots</th>\n",
       "      <th>corners</th>\n",
       "      <th>points</th>\n",
       "    </tr>\n",
       "  </thead>\n",
       "  <tbody>\n",
       "    <tr>\n",
       "      <th>fouls</th>\n",
       "      <td>1.000000</td>\n",
       "      <td>-0.261404</td>\n",
       "      <td>-0.347293</td>\n",
       "      <td>-0.440457</td>\n",
       "    </tr>\n",
       "    <tr>\n",
       "      <th>total_shots</th>\n",
       "      <td>-0.261404</td>\n",
       "      <td>1.000000</td>\n",
       "      <td>0.906336</td>\n",
       "      <td>0.886291</td>\n",
       "    </tr>\n",
       "    <tr>\n",
       "      <th>corners</th>\n",
       "      <td>-0.347293</td>\n",
       "      <td>0.906336</td>\n",
       "      <td>1.000000</td>\n",
       "      <td>0.806706</td>\n",
       "    </tr>\n",
       "    <tr>\n",
       "      <th>points</th>\n",
       "      <td>-0.440457</td>\n",
       "      <td>0.886291</td>\n",
       "      <td>0.806706</td>\n",
       "      <td>1.000000</td>\n",
       "    </tr>\n",
       "  </tbody>\n",
       "</table>\n",
       "</div>"
      ],
      "text/plain": [
       "                fouls  total_shots   corners    points\n",
       "fouls        1.000000    -0.261404 -0.347293 -0.440457\n",
       "total_shots -0.261404     1.000000  0.906336  0.886291\n",
       "corners     -0.347293     0.906336  1.000000  0.806706\n",
       "points      -0.440457     0.886291  0.806706  1.000000"
      ]
     },
     "execution_count": 15,
     "metadata": {},
     "output_type": "execute_result"
    }
   ],
   "source": [
    "# calculating the correlation between fouls, total shots, and corners and points \n",
    "table[[\"fouls\", \"total_shots\", \"corners\", \"points\"]].corr()"
   ]
  },
  {
   "cell_type": "markdown",
   "id": "bc4b946f",
   "metadata": {},
   "source": [
    "We can see that there is a higher correlation between corners, total shots and points, hence these two numeric variables can be good predictors of points.\n",
    "The fouls variable has a negative correlation to points and its value is small(close to zero) hence that cannot be a good predictor of points or team performance."
   ]
  },
  {
   "cell_type": "markdown",
   "id": "fcfb76ef",
   "metadata": {},
   "source": [
    "### Analysis of individual feature patterns using visualization"
   ]
  },
  {
   "cell_type": "markdown",
   "id": "27dd300d",
   "metadata": {},
   "source": [
    "Lets visualize these correlations using regression plots"
   ]
  },
  {
   "cell_type": "code",
   "execution_count": 16,
   "id": "388f4d12",
   "metadata": {},
   "outputs": [
    {
     "data": {
      "text/plain": [
       "<AxesSubplot:xlabel='corners', ylabel='points'>"
      ]
     },
     "execution_count": 16,
     "metadata": {},
     "output_type": "execute_result"
    },
    {
     "data": {
      "image/png": "[encoded data removed]",
      "text/plain": [
       "<Figure size 648x504 with 1 Axes>"
      ]
     },
     "metadata": {
      "needs_background": "light"
     },
     "output_type": "display_data"
    }
   ],
   "source": [
    "# corners as a predictor variable of points\n",
    "width, height = 9,7\n",
    "plt.figure(figsize = (width, height))\n",
    "sns.regplot(x = \"corners\", y = \"points\", data = table)"
   ]
  },
  {
   "cell_type": "markdown",
   "id": "0cfe9671",
   "metadata": {},
   "source": [
    "From the regression plot we can see that corners and points have a positive correlation since as the number of corners\n",
    "increase, the number of points tend to increase too. We can check their Person correlation coefficient and p-value"
   ]
  },
  {
   "cell_type": "code",
   "execution_count": 17,
   "id": "6ef2c1c2",
   "metadata": {},
   "outputs": [
    {
     "data": {
      "text/html": [
       "<div>\n",
       "<style scoped>\n",
       "    .dataframe tbody tr th:only-of-type {\n",
       "        vertical-align: middle;\n",
       "    }\n",
       "\n",
       "    .dataframe tbody tr th {\n",
       "        vertical-align: top;\n",
       "    }\n",
       "\n",
       "    .dataframe thead th {\n",
       "        text-align: right;\n",
       "    }\n",
       "</style>\n",
       "<table border=\"1\" class=\"dataframe\">\n",
       "  <thead>\n",
       "    <tr style=\"text-align: right;\">\n",
       "      <th></th>\n",
       "      <th>corners</th>\n",
       "      <th>points</th>\n",
       "    </tr>\n",
       "  </thead>\n",
       "  <tbody>\n",
       "    <tr>\n",
       "      <th>corners</th>\n",
       "      <td>1.000000</td>\n",
       "      <td>0.806706</td>\n",
       "    </tr>\n",
       "    <tr>\n",
       "      <th>points</th>\n",
       "      <td>0.806706</td>\n",
       "      <td>1.000000</td>\n",
       "    </tr>\n",
       "  </tbody>\n",
       "</table>\n",
       "</div>"
      ],
      "text/plain": [
       "          corners    points\n",
       "corners  1.000000  0.806706\n",
       "points   0.806706  1.000000"
      ]
     },
     "execution_count": 17,
     "metadata": {},
     "output_type": "execute_result"
    }
   ],
   "source": [
    "# calculating the Pearson coefficient\n",
    "table[[\"corners\", \"points\"]].corr()"
   ]
  },
  {
   "cell_type": "markdown",
   "id": "0362e23c",
   "metadata": {},
   "source": [
    "We can say that corners is a good predictor of points since they have a positive correlation of approx 0.81"
   ]
  },
  {
   "cell_type": "markdown",
   "id": "0f51be35",
   "metadata": {},
   "source": [
    "It is again important to check for the probability that the value of correlation is statistically significant. This is done by calculating the P-value."
   ]
  },
  {
   "cell_type": "code",
   "execution_count": 18,
   "id": "7711b3d2",
   "metadata": {},
   "outputs": [
    {
     "name": "stdout",
     "output_type": "stream",
     "text": [
      "The Pearson correlation coefficient is: 0.8067059277632534 with a P-value of P = 1.7317751860971625e-05\n"
     ]
    }
   ],
   "source": [
    "# calculating the p-value\n",
    "from scipy import stats\n",
    "pearson_coef, p_value = stats.pearsonr(table[\"corners\"], table[\"points\"])\n",
    "print(\"The Pearson correlation coefficient is:\", pearson_coef, \"with a P-value of P =\", p_value)"
   ]
  },
  {
   "cell_type": "markdown",
   "id": "fcced2c7",
   "metadata": {},
   "source": [
    "Since the p-value is <0.05, we can say that there is moderate evidence that the correlation between corners and points is statistically significant although they have a very strong linear relationship of ~0.81"
   ]
  },
  {
   "cell_type": "code",
   "execution_count": 19,
   "id": "6dea031c",
   "metadata": {},
   "outputs": [
    {
     "data": {
      "text/plain": [
       "<AxesSubplot:xlabel='total_shots', ylabel='points'>"
      ]
     },
     "execution_count": 19,
     "metadata": {},
     "output_type": "execute_result"
    },
    {
     "data": {
      "image/png": "[encoded data removed]",
      "text/plain": [
       "<Figure size 648x504 with 1 Axes>"
      ]
     },
     "metadata": {
      "needs_background": "light"
     },
     "output_type": "display_data"
    }
   ],
   "source": [
    "# total shots as a predictor variable of points\n",
    "plt.figure(figsize = (width, height))\n",
    "sns.regplot(x = \"total_shots\", y = \"points\", data = table)"
   ]
  },
  {
   "cell_type": "markdown",
   "id": "c545b1d7",
   "metadata": {},
   "source": [
    "From the regression plot,  we can see that there is a positve correlation between total shots and points since as the value of shots increase so does the points."
   ]
  },
  {
   "cell_type": "markdown",
   "id": "c351d7b7",
   "metadata": {},
   "source": [
    "We can calculate the pearson correlation and p-value between shots and points and examine for statistical significance"
   ]
  },
  {
   "cell_type": "code",
   "execution_count": 20,
   "id": "868e9d92",
   "metadata": {},
   "outputs": [
    {
     "name": "stdout",
     "output_type": "stream",
     "text": [
      "The Person correlation coefficient is: 0.8862906300409944 the p-value is P = 1.9841949342310438e-07\n"
     ]
    }
   ],
   "source": [
    "# calculating pearson coefficient and p-value\n",
    "pearson_coef, p_value = stats.pearsonr(table[\"total_shots\"], table[\"points\"])\n",
    "print(\"The Person correlation coefficient is:\", pearson_coef, \"the p-value is P =\", p_value)"
   ]
  },
  {
   "cell_type": "markdown",
   "id": "7f304b02",
   "metadata": {},
   "source": [
    "The p-value is <0.05 hence there is a moderate evidence that the correlation between total shorts and points is ststistically significant although there is a very strong linear relationship of 0.89."
   ]
  },
  {
   "cell_type": "markdown",
   "id": "5585ea2e",
   "metadata": {},
   "source": [
    "Examining shorts on target as predictor of points"
   ]
  },
  {
   "cell_type": "code",
   "execution_count": 21,
   "id": "8a49e89e",
   "metadata": {},
   "outputs": [
    {
     "data": {
      "text/plain": [
       "<AxesSubplot:xlabel='shots_on_target', ylabel='points'>"
      ]
     },
     "execution_count": 21,
     "metadata": {},
     "output_type": "execute_result"
    },
    {
     "data": {
      "image/png": "[encoded data removed]",
      "text/plain": [
       "<Figure size 648x504 with 1 Axes>"
      ]
     },
     "metadata": {
      "needs_background": "light"
     },
     "output_type": "display_data"
    }
   ],
   "source": [
    "plt.figure(figsize = (width, height))\n",
    "sns.regplot(x = \"shots_on_target\", y = \"points\", data = table)"
   ]
  },
  {
   "cell_type": "markdown",
   "id": "4c0e605f",
   "metadata": {},
   "source": [
    "We can see from the plot that there is a strong positive correlaton between shots on target and point."
   ]
  },
  {
   "cell_type": "code",
   "execution_count": 22,
   "id": "6aac3e34",
   "metadata": {},
   "outputs": [
    {
     "name": "stdout",
     "output_type": "stream",
     "text": [
      "The Pearson correlation coefficient is: 0.9437325308693133 the P-value is P = 4.373610538838452e-10\n"
     ]
    }
   ],
   "source": [
    "# examining the correlation coefficient and p-value\n",
    "pearson_coef, p_value = stats.pearsonr(table[\"shots_on_target\"], table[\"points\"])\n",
    "print(\"The Pearson correlation coefficient is:\", pearson_coef, \"the P-value is P =\", p_value)"
   ]
  },
  {
   "cell_type": "markdown",
   "id": "b7c06a89",
   "metadata": {},
   "source": [
    "The P-value is <0.001 hence there is a strong evidence that the correlation betweeen shots on target and points is statistically significant and there is a very strong linear relationship of ~0.94"
   ]
  },
  {
   "cell_type": "markdown",
   "id": "c31b838a",
   "metadata": {},
   "source": [
    "So from the above statistical analysis we can conclude that shots on target is a better predictor varible compared to total shots and corners. This is because it has the lowest  p-vlaue and the highest pearson correlation compared to total shots and corners. However, we can still use all of them as predictors of points since they have all given a high positive correlation and proven to be statisticlly significant.\n",
    "\n",
    "## Model Development\n",
    "\n",
    "For this data we'll develop a linear regression model to help predict points.\n",
    "\n",
    "### Linear Regression and Multiple Linear Regression"
   ]
  },
  {
   "cell_type": "code",
   "execution_count": 23,
   "id": "91c29ca3",
   "metadata": {},
   "outputs": [],
   "source": [
    "from sklearn.linear_model import LinearRegression"
   ]
  },
  {
   "cell_type": "markdown",
   "id": "93f103f4",
   "metadata": {},
   "source": [
    "### Simple Linear Regression"
   ]
  },
  {
   "cell_type": "code",
   "execution_count": 24,
   "id": "7b748531",
   "metadata": {},
   "outputs": [
    {
     "data": {
      "text/plain": [
       "LinearRegression()"
      ]
     },
     "execution_count": 24,
     "metadata": {},
     "output_type": "execute_result"
    }
   ],
   "source": [
    "lr = LinearRegression()\n",
    "lr "
   ]
  },
  {
   "cell_type": "markdown",
   "id": "f4c4692d",
   "metadata": {},
   "source": [
    "How can corners help us predict points?"
   ]
  },
  {
   "cell_type": "code",
   "execution_count": 25,
   "id": "a570ba00",
   "metadata": {},
   "outputs": [],
   "source": [
    "X = table[[\"corners\"]]\n",
    "Y = table[[\"points\"]]"
   ]
  },
  {
   "cell_type": "markdown",
   "id": "3f8e8c35",
   "metadata": {},
   "source": [
    "Fitting the Linear model using corners"
   ]
  },
  {
   "cell_type": "code",
   "execution_count": 26,
   "id": "8aafdf2d",
   "metadata": {},
   "outputs": [
    {
     "data": {
      "text/plain": [
       "LinearRegression()"
      ]
     },
     "execution_count": 26,
     "metadata": {},
     "output_type": "execute_result"
    }
   ],
   "source": [
    "lr.fit(X,Y)"
   ]
  },
  {
   "cell_type": "code",
   "execution_count": 27,
   "id": "e48fad06",
   "metadata": {},
   "outputs": [
    {
     "data": {
      "text/plain": [
       "array([[38.26903034],\n",
       "       [52.94864075],\n",
       "       [47.44378684],\n",
       "       [68.72922193],\n",
       "       [39.00301086],\n",
       "       [47.8107771 ],\n",
       "       [39.37000112],\n",
       "       [40.4709719 ],\n",
       "       [38.6360206 ],\n",
       "       [51.48067971],\n",
       "       [84.50980312],\n",
       "       [51.84766997],\n",
       "       [44.50786476],\n",
       "       [42.67291346],\n",
       "       [96.25349145],\n",
       "       [54.04961153],\n",
       "       [65.79329985],\n",
       "       [41.57194268],\n",
       "       [56.61854335],\n",
       "       [50.01271867]])"
      ]
     },
     "execution_count": 27,
     "metadata": {},
     "output_type": "execute_result"
    }
   ],
   "source": [
    "# outputting the prediction\n",
    "Yhat = lr.predict(X)\n",
    "Yhat"
   ]
  },
  {
   "cell_type": "code",
   "execution_count": 28,
   "id": "911a2c70",
   "metadata": {},
   "outputs": [
    {
     "data": {
      "text/plain": [
       "array([-20.08242103])"
      ]
     },
     "execution_count": 28,
     "metadata": {},
     "output_type": "execute_result"
    }
   ],
   "source": [
    "# value of the y intercept\n",
    "lr.intercept_"
   ]
  },
  {
   "cell_type": "code",
   "execution_count": 29,
   "id": "a08e2f3f",
   "metadata": {},
   "outputs": [
    {
     "data": {
      "text/plain": [
       "array([[0.36699026]])"
      ]
     },
     "execution_count": 29,
     "metadata": {},
     "output_type": "execute_result"
    }
   ],
   "source": [
    "# value of the slope\n",
    "lr.coef_"
   ]
  },
  {
   "cell_type": "markdown",
   "id": "44cfbcb4",
   "metadata": {},
   "source": [
    "What's the final estimate of the linear model we get?"
   ]
  },
  {
   "cell_type": "markdown",
   "id": "684589bb",
   "metadata": {},
   "source": [
    "$$Yhat= a+bx$$"
   ]
  },
  {
   "cell_type": "markdown",
   "id": "51b2c6be",
   "metadata": {},
   "source": [
    "points = -20.08242103 + 0.36699026 x corners"
   ]
  },
  {
   "cell_type": "markdown",
   "id": "f545d90e",
   "metadata": {},
   "source": [
    "Building a model with total shots"
   ]
  },
  {
   "cell_type": "code",
   "execution_count": 30,
   "id": "4d7164ad",
   "metadata": {},
   "outputs": [
    {
     "data": {
      "text/plain": [
       "array([[44.9515175 ],\n",
       "       [56.398226  ],\n",
       "       [38.88129329],\n",
       "       [70.9667641 ],\n",
       "       [44.25777759],\n",
       "       [43.73747266],\n",
       "       [36.97350854],\n",
       "       [33.15793904],\n",
       "       [45.99212736],\n",
       "       [53.44983139],\n",
       "       [94.90079098],\n",
       "       [47.03273723],\n",
       "       [39.74846818],\n",
       "       [52.40922152],\n",
       "       [92.29926632],\n",
       "       [53.27639641],\n",
       "       [51.88891659],\n",
       "       [38.0141184 ],\n",
       "       [70.27302419],\n",
       "       [43.3906027 ]])"
      ]
     },
     "execution_count": 30,
     "metadata": {},
     "output_type": "execute_result"
    }
   ],
   "source": [
    "lr1 = LinearRegression()\n",
    "X = table[[\"total_shots\"]]\n",
    "Y = table[[\"points\"]]\n",
    "lr1.fit(X,Y)\n",
    "Yhat = lr1.predict(X)\n",
    "Yhat"
   ]
  },
  {
   "cell_type": "code",
   "execution_count": 31,
   "id": "4f4540b3",
   "metadata": {},
   "outputs": [
    {
     "data": {
      "text/plain": [
       "array([-31.7067425])"
      ]
     },
     "execution_count": 31,
     "metadata": {},
     "output_type": "execute_result"
    }
   ],
   "source": [
    "# y- intercept\n",
    "lr1.intercept_"
   ]
  },
  {
   "cell_type": "code",
   "execution_count": 32,
   "id": "e2877b79",
   "metadata": {},
   "outputs": [
    {
     "data": {
      "text/plain": [
       "array([[0.17343498]])"
      ]
     },
     "execution_count": 32,
     "metadata": {},
     "output_type": "execute_result"
    }
   ],
   "source": [
    "# slope\n",
    "lr1.coef_"
   ]
  },
  {
   "cell_type": "markdown",
   "id": "eb173df0",
   "metadata": {},
   "source": [
    "Finall estimate of the linear model is:\n",
    "\n",
    "points = -31.7067425 + 0.17343498 x total_shots"
   ]
  },
  {
   "cell_type": "markdown",
   "id": "902ca4d0",
   "metadata": {},
   "source": [
    "Building a model with shorts on target"
   ]
  },
  {
   "cell_type": "code",
   "execution_count": 33,
   "id": "180935b3",
   "metadata": {},
   "outputs": [
    {
     "data": {
      "text/plain": [
       "array([[46.31487077],\n",
       "       [61.56555199],\n",
       "       [32.91275697],\n",
       "       [72.65695651],\n",
       "       [38.92060109],\n",
       "       [53.2469986 ],\n",
       "       [33.83704068],\n",
       "       [25.51848729],\n",
       "       [43.54201964],\n",
       "       [66.64911239],\n",
       "       [93.45333999],\n",
       "       [50.01200561],\n",
       "       [43.07987779],\n",
       "       [46.31487077],\n",
       "       [92.52905628],\n",
       "       [45.39058706],\n",
       "       [53.70914045],\n",
       "       [37.99631738],\n",
       "       [66.18697054],\n",
       "       [48.16343819]])"
      ]
     },
     "execution_count": 33,
     "metadata": {},
     "output_type": "execute_result"
    }
   ],
   "source": [
    "lr2 = LinearRegression()\n",
    "X = table[[\"shots_on_target\"]]\n",
    "Y = table[[\"points\"]]\n",
    "lr2.fit(X,Y)\n",
    "Yhat = lr2.predict(X)\n",
    "Yhat"
   ]
  },
  {
   "cell_type": "code",
   "execution_count": 34,
   "id": "dcdec3c7",
   "metadata": {},
   "outputs": [
    {
     "data": {
      "text/plain": [
       "array([-24.85497491])"
      ]
     },
     "execution_count": 34,
     "metadata": {},
     "output_type": "execute_result"
    }
   ],
   "source": [
    "# y- intercept\n",
    "lr2.intercept_"
   ]
  },
  {
   "cell_type": "code",
   "execution_count": 35,
   "id": "4acf1773",
   "metadata": {},
   "outputs": [
    {
     "data": {
      "text/plain": [
       "array([[0.46214186]])"
      ]
     },
     "execution_count": 35,
     "metadata": {},
     "output_type": "execute_result"
    }
   ],
   "source": [
    "# slope\n",
    "lr2.coef_"
   ]
  },
  {
   "cell_type": "markdown",
   "id": "6f9e3054",
   "metadata": {},
   "source": [
    "Finall estimate of the linear model is:\n",
    "\n",
    "points = -24.85497491 + 0.46214186 x shots_on_target"
   ]
  },
  {
   "cell_type": "markdown",
   "id": "44b9f802",
   "metadata": {},
   "source": [
    "### Multiple Linear Regression"
   ]
  },
  {
   "cell_type": "markdown",
   "id": "98e3f6cc",
   "metadata": {},
   "source": [
    "Using multilple linear regression, we can predict the value of points using more than one variable as oppposed to simple linear regression."
   ]
  },
  {
   "cell_type": "code",
   "execution_count": 36,
   "id": "4465b55d",
   "metadata": {},
   "outputs": [
    {
     "data": {
      "text/plain": [
       "array([[48.03902182],\n",
       "       [62.84348716],\n",
       "       [31.07551858],\n",
       "       [72.48424408],\n",
       "       [39.31805384],\n",
       "       [54.53069959],\n",
       "       [33.61717064],\n",
       "       [23.87965209],\n",
       "       [44.70108022],\n",
       "       [69.14117629],\n",
       "       [93.0689258 ],\n",
       "       [49.93320928],\n",
       "       [43.40149825],\n",
       "       [46.98497577],\n",
       "       [90.07602544],\n",
       "       [43.91700702],\n",
       "       [51.6537895 ],\n",
       "       [38.04733267],\n",
       "       [67.0490455 ],\n",
       "       [48.23808646]])"
      ]
     },
     "execution_count": 36,
     "metadata": {},
     "output_type": "execute_result"
    }
   ],
   "source": [
    "lr3 = LinearRegression()\n",
    "Z = table[[\"corners\", \"total_shots\", \"shots_on_target\"]]\n",
    "Y = table[[\"points\"]]\n",
    "lr3.fit(Z,Y)\n",
    "Yhat = lr3.predict(Z)\n",
    "Yhat"
   ]
  },
  {
   "cell_type": "code",
   "execution_count": 37,
   "id": "2cebc4cd",
   "metadata": {},
   "outputs": [
    {
     "data": {
      "text/plain": [
       "array([-21.86820147])"
      ]
     },
     "execution_count": 37,
     "metadata": {},
     "output_type": "execute_result"
    }
   ],
   "source": [
    "# y- intercept\n",
    "lr3.intercept_"
   ]
  },
  {
   "cell_type": "code",
   "execution_count": 38,
   "id": "190141c1",
   "metadata": {},
   "outputs": [
    {
     "data": {
      "text/plain": [
       "array([[-0.06308474, -0.00690766,  0.53890182]])"
      ]
     },
     "execution_count": 38,
     "metadata": {},
     "output_type": "execute_result"
    }
   ],
   "source": [
    "# values of coefficients\n",
    "lr3.coef_"
   ]
  },
  {
   "cell_type": "markdown",
   "id": "010a31a5",
   "metadata": {},
   "source": [
    "The final estimated linear model becomes:"
   ]
  },
  {
   "cell_type": "markdown",
   "id": "e91602a6",
   "metadata": {},
   "source": [
    "$$Yhat = a + b_1X_1 + b_2X_2 + b_3X_3$$"
   ]
  },
  {
   "cell_type": "markdown",
   "id": "10d75e1c",
   "metadata": {},
   "source": [
    "points = -21.86820147 -0.06308474 x **corners** - 0.00690766 x **total_shots** + 0.53890182 x **shots_on_target**"
   ]
  },
  {
   "cell_type": "markdown",
   "id": "80883eda",
   "metadata": {},
   "source": [
    "## Model Evaluation using Visualization"
   ]
  },
  {
   "cell_type": "markdown",
   "id": "443df58b",
   "metadata": {},
   "source": [
    "Here, we'll evaluate our models and chose the best one. One of the ways to do this is by using visualization"
   ]
  },
  {
   "cell_type": "markdown",
   "id": "8f9f864c",
   "metadata": {},
   "source": [
    "### Regression plots"
   ]
  },
  {
   "cell_type": "markdown",
   "id": "ad83e1a3",
   "metadata": {},
   "source": [
    "With simple linear regression, a good wayto visualize the fit of our model is by using regression plots"
   ]
  },
  {
   "cell_type": "markdown",
   "id": "dd7ca028",
   "metadata": {},
   "source": [
    "Visualizing total shots as a a potential predictor of variable points"
   ]
  },
  {
   "cell_type": "code",
   "execution_count": 39,
   "id": "e9b399c3",
   "metadata": {},
   "outputs": [
    {
     "data": {
      "text/plain": [
       "(0.0, 107.5852561054125)"
      ]
     },
     "execution_count": 39,
     "metadata": {},
     "output_type": "execute_result"
    },
    {
     "data": {
      "image/png": "[encoded data removed]",
      "text/plain": [
       "<Figure size 720x576 with 1 Axes>"
      ]
     },
     "metadata": {
      "needs_background": "light"
     },
     "output_type": "display_data"
    }
   ],
   "source": [
    "width, height = 10, 8\n",
    "plt.figure(figsize = (width, height))\n",
    "sns.regplot(x = \"total_shots\", y = \"points\", data = table)\n",
    "plt.ylim(0,)"
   ]
  },
  {
   "cell_type": "markdown",
   "id": "e34df551",
   "metadata": {},
   "source": [
    "Lets try a residualplot"
   ]
  },
  {
   "cell_type": "code",
   "execution_count": 40,
   "id": "a8c4c7a1",
   "metadata": {},
   "outputs": [
    {
     "data": {
      "image/png": "[encoded data removed]",
      "text/plain": [
       "<Figure size 720x576 with 1 Axes>"
      ]
     },
     "metadata": {
      "needs_background": "light"
     },
     "output_type": "display_data"
    }
   ],
   "source": [
    "plt.figure(figsize = (width, height))\n",
    "sns.residplot(x = \"total_shots\", y = \"points\", data = table)\n",
    "plt.show()"
   ]
  },
  {
   "cell_type": "markdown",
   "id": "f314951e",
   "metadata": {},
   "source": [
    "We can see from the residual plot that the residuals are randomly spread arround the x-axis hence a linear model is appropriate for this data"
   ]
  },
  {
   "cell_type": "markdown",
   "id": "d5344adb",
   "metadata": {},
   "source": [
    "### Distribution plots"
   ]
  },
  {
   "cell_type": "code",
   "execution_count": 41,
   "id": "1ca4eb07",
   "metadata": {},
   "outputs": [],
   "source": [
    "lr4 = LinearRegression()\n",
    "Z = table[[\"corners\", \"total_shots\", \"shots_on_target\"]]\n",
    "Y = table[[\"points\"]]\n",
    "lr4.fit(Z,Y)\n",
    "Yhat = lr4.predict(Z)"
   ]
  },
  {
   "cell_type": "code",
   "execution_count": 42,
   "id": "1cfd1ead",
   "metadata": {},
   "outputs": [
    {
     "name": "stderr",
     "output_type": "stream",
     "text": [
      "C:\\ProgramData\\Anaconda3\\lib\\site-packages\\seaborn\\distributions.py:2619: FutureWarning: `distplot` is a deprecated function and will be removed in a future version. Please adapt your code to use either `displot` (a figure-level function with similar flexibility) or `kdeplot` (an axes-level function for kernel density plots).\n",
      "  warnings.warn(msg, FutureWarning)\n",
      "C:\\ProgramData\\Anaconda3\\lib\\site-packages\\seaborn\\distributions.py:2619: FutureWarning: `distplot` is a deprecated function and will be removed in a future version. Please adapt your code to use either `displot` (a figure-level function with similar flexibility) or `kdeplot` (an axes-level function for kernel density plots).\n",
      "  warnings.warn(msg, FutureWarning)\n"
     ]
    },
    {
     "data": {
      "image/png": "[encoded data removed]",
      "text/plain": [
       "<Figure size 720x576 with 1 Axes>"
      ]
     },
     "metadata": {
      "needs_background": "light"
     },
     "output_type": "display_data"
    }
   ],
   "source": [
    "plt.figure(figsize = (width, height))\n",
    "ax1 = sns.distplot(x = Y, color = \"r\", hist = False, label = \"Actual value\")\n",
    "sns.distplot(x = Yhat, hist = False, color = \"b\", label = \"Fitted values\", ax = ax1)\n",
    "plt.title(\"Actual vs Fitted values of  points\")\n",
    "plt.xlabel(\"points\")\n",
    "plt.show()"
   ]
  },
  {
   "cell_type": "markdown",
   "id": "b8804513",
   "metadata": {},
   "source": [
    "We can see that the fitted values are nearly the same as the actual values since there is minimal overap."
   ]
  },
  {
   "cell_type": "markdown",
   "id": "dce30670",
   "metadata": {},
   "source": [
    "### Polynomial Regression"
   ]
  },
  {
   "cell_type": "code",
   "execution_count": 43,
   "id": "b872fe57",
   "metadata": {},
   "outputs": [
    {
     "name": "stdout",
     "output_type": "stream",
     "text": [
      "[37.09411173 53.84715614 48.08625635 68.45600881 38.05064764 48.48703774\n",
      " 38.52338494 39.92001772 37.57423834 52.36014785 83.05845547 52.73498488\n",
      " 44.78150931 42.62025335 96.05895281 54.94176874 65.84635948 41.2852329\n",
      " 57.43445023 50.83902557]\n"
     ]
    }
   ],
   "source": [
    "x = table[\"corners\"].values\n",
    "y = table[\"points\"].values\n",
    "x = x.reshape(-1,1)\n",
    "\n",
    "from sklearn.preprocessing import PolynomialFeatures\n",
    "poly = PolynomialFeatures(degree = 3)\n",
    "\n",
    "x_poly = poly.fit_transform(x)\n",
    "\n",
    "poly.fit(x_poly,y)\n",
    "lr5 = LinearRegression()\n",
    "lr5.fit(x_poly,y)\n",
    "y_hat2 = lr5.predict(x_poly)\n",
    "print(y_hat2)"
   ]
  },
  {
   "cell_type": "code",
   "execution_count": 44,
   "id": "ba4938cd",
   "metadata": {},
   "outputs": [
    {
     "data": {
      "text/plain": [
       "[<matplotlib.lines.Line2D at 0x1e82c2afdf0>]"
      ]
     },
     "execution_count": 44,
     "metadata": {},
     "output_type": "execute_result"
    },
    {
     "data": {
      "image/png": "[encoded data removed]",
      "text/plain": [
       "<Figure size 720x576 with 1 Axes>"
      ]
     },
     "metadata": {
      "needs_background": "light"
     },
     "output_type": "display_data"
    }
   ],
   "source": [
    "# visualizing polynomial regression\n",
    "plt.figure(figsize=(width,height))\n",
    "plt.scatter(x = \"corners\", y = \"points\", data = table)\n",
    "plt.plot(x, y_hat2, color = \"red\")"
   ]
  },
  {
   "cell_type": "markdown",
   "id": "f671994d",
   "metadata": {},
   "source": [
    "From the graph, polynomial regression does not fit the data"
   ]
  },
  {
   "cell_type": "markdown",
   "id": "d9e27a61",
   "metadata": {},
   "source": [
    "Measuring the Accuracy of our models"
   ]
  },
  {
   "cell_type": "markdown",
   "id": "6feebbdc",
   "metadata": {},
   "source": [
    "### Simple Linear Regeression"
   ]
  },
  {
   "cell_type": "code",
   "execution_count": 45,
   "id": "aeeea071",
   "metadata": {},
   "outputs": [
    {
     "data": {
      "text/plain": [
       "0.6507744538883713"
      ]
     },
     "execution_count": 45,
     "metadata": {},
     "output_type": "execute_result"
    }
   ],
   "source": [
    "# calculating the r-squared\n",
    "lr = LinearRegression()\n",
    "X = table[[\"corners\"]]\n",
    "Y = table[[\"points\"]]\n",
    "lr.fit(X,Y)\n",
    "lr.score(X,Y)"
   ]
  },
  {
   "cell_type": "code",
   "execution_count": 46,
   "id": "c8cf67b2",
   "metadata": {},
   "outputs": [
    {
     "data": {
      "text/plain": [
       "124.16365066452848"
      ]
     },
     "execution_count": 46,
     "metadata": {},
     "output_type": "execute_result"
    }
   ],
   "source": [
    "# calculating the mse\n",
    "from sklearn.metrics import mean_squared_error\n",
    "Yhat = lr.predict(X)\n",
    "mean_squared_error(table[\"points\"], Yhat)"
   ]
  },
  {
   "cell_type": "markdown",
   "id": "77226a7b",
   "metadata": {},
   "source": [
    "### Multiple Linear Regression"
   ]
  },
  {
   "cell_type": "code",
   "execution_count": 47,
   "id": "f3285839",
   "metadata": {},
   "outputs": [
    {
     "data": {
      "text/plain": [
       "0.8954091670874083"
      ]
     },
     "execution_count": 47,
     "metadata": {},
     "output_type": "execute_result"
    }
   ],
   "source": [
    "# calculating the r-squared\n",
    "lr2 = LinearRegression()\n",
    "Z = table[[\"corners\", \"total_shots\", \"shots_on_target\"]]\n",
    "Y = table[[\"points\"]]\n",
    "lr2.fit(Z,Y)\n",
    "lr2.score(Z,Y)"
   ]
  },
  {
   "cell_type": "code",
   "execution_count": 48,
   "id": "a1cf4db5",
   "metadata": {},
   "outputs": [
    {
     "data": {
      "text/plain": [
       "37.18622473374287"
      ]
     },
     "execution_count": 48,
     "metadata": {},
     "output_type": "execute_result"
    }
   ],
   "source": [
    "# calculating the mse\n",
    "Yhat = lr2.predict(Z)\n",
    "mean_squared_error(table[\"points\"], Yhat)"
   ]
  },
  {
   "cell_type": "markdown",
   "id": "0a20f3ae",
   "metadata": {},
   "source": [
    "From the above values its safe to conclude that multiple regression is a better prediction model compared to simple linear regression. This is because MLR has a higher R -squared value and a lower MSE compared to SLR"
   ]
  },
  {
   "cell_type": "code",
   "execution_count": null,
   "id": "8bde6715",
   "metadata": {},
   "outputs": [],
   "source": []
  }
 ],
 "metadata": {
  "kernelspec": {
   "display_name": "Python 3 (ipykernel)",
   "language": "python",
   "name": "python3"
  },
  "language_info": {
   "codemirror_mode": {
    "name": "ipython",
    "version": 3
   },
   "file_extension": ".py",
   "mimetype": "text/x-python",
   "name": "python",
   "nbconvert_exporter": "python",
   "pygments_lexer": "ipython3",
   "version": "3.9.12"
  },
  "vscode": {
   "interpreter": {
    "hash": "76d7c06053c3456e5600312cec90888656fc0ed30c03d8425b9dac6e4fc8e014"
   }
  }
 },
 "nbformat": 4,
 "nbformat_minor": 5
}
